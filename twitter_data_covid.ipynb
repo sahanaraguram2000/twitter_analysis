{
 "cells": [
  {
   "cell_type": "markdown",
   "metadata": {},
   "source": [
    "#                                  Analysis of Tweets for Covid-19 "
   ]
  },
  {
   "cell_type": "markdown",
   "metadata": {},
   "source": [
    "In this project, we are going to analyse what people talk about Covid-19 in twitter. For this purpose we are using the Twitter's official API to fetch the data. There are various packages available in python which act as a wrapper for the Twitter's official API so and TwitterSearch is one among them. In order to get the access to real time Twitter data, we might need a Twitter developer account. "
   ]
  },
  {
   "cell_type": "code",
   "execution_count": 1,
   "metadata": {},
   "outputs": [],
   "source": [
    "from TwitterSearch import TwitterSearch, TwitterSearchOrder, TwitterSearchException"
   ]
  },
  {
   "cell_type": "code",
   "execution_count": 2,
   "metadata": {},
   "outputs": [],
   "source": [
    "ts = TwitterSearch(access_token=' ', #your access token\n",
    "                       access_token_secret=' ', #your access token secret\n",
    "                       consumer_key= ' ', #your consumer key\n",
    "                       consumer_secret= ' ') # your consumer secret"
   ]
  },
  {
   "cell_type": "code",
   "execution_count": 3,
   "metadata": {},
   "outputs": [],
   "source": [
    "tso = TwitterSearchOrder()"
   ]
  },
  {
   "cell_type": "code",
   "execution_count": 4,
   "metadata": {},
   "outputs": [],
   "source": [
    "keywords, language = ['covid'], 'en'"
   ]
  },
  {
   "cell_type": "code",
   "execution_count": 5,
   "metadata": {},
   "outputs": [],
   "source": [
    "results = []"
   ]
  },
  {
   "cell_type": "code",
   "execution_count": 6,
   "metadata": {},
   "outputs": [],
   "source": [
    "tso.remove_all_filters()#remove all previously set filters\n",
    "tso.set_result_type('recent') #you can choose between popular, recent or mixed tweets\n",
    "tso.set_keywords(keywords) # previously defined keywords\n",
    "tso.set_language(language) # en = english, de = german, ru=russian and so on\n",
    "tso.set_include_entities(False) #entities provide additional metadata"
   ]
  },
  {
   "cell_type": "code",
   "execution_count": 7,
   "metadata": {},
   "outputs": [],
   "source": [
    "for tweet in ts.search_tweets_iterable(tso):\n",
    "    results.append(tweet)"
   ]
  },
  {
   "cell_type": "markdown",
   "metadata": {},
   "source": [
    "The output of the following cell gives an outline of the data that we obtain from twitter for each tweet"
   ]
  },
  {
   "cell_type": "code",
   "execution_count": 8,
   "metadata": {
    "scrolled": true
   },
   "outputs": [
    {
     "data": {
      "text/plain": [
       "{'created_at': 'Mon Feb 08 13:50:43 +0000 2021',\n",
       " 'id': 1358775270031826952,\n",
       " 'id_str': '1358775270031826952',\n",
       " 'text': 'RT @mayleechai: Attacks against Asian Americans is as old as America itself but the sheer volume and number have gone up astronomically sin…',\n",
       " 'truncated': False,\n",
       " 'metadata': {'iso_language_code': 'en', 'result_type': 'recent'},\n",
       " 'source': '<a href=\"http://twitter.com/download/iphone\" rel=\"nofollow\">Twitter for iPhone</a>',\n",
       " 'in_reply_to_status_id': None,\n",
       " 'in_reply_to_status_id_str': None,\n",
       " 'in_reply_to_user_id': None,\n",
       " 'in_reply_to_user_id_str': None,\n",
       " 'in_reply_to_screen_name': None,\n",
       " 'user': {'id': 455949997,\n",
       "  'id_str': '455949997',\n",
       "  'name': 'Jennifer Richeson',\n",
       "  'screen_name': 'jaricheson',\n",
       "  'location': '',\n",
       "  'description': 'professor of social psychology with a focus on race, diversity, & social inequality; political junkie; the beach is my happy place',\n",
       "  'url': 'https://t.co/skhV3MWf67',\n",
       "  'entities': {'url': {'urls': [{'url': 'https://t.co/skhV3MWf67',\n",
       "      'expanded_url': 'http://psychology.yale.edu/people/jennifer-richeson',\n",
       "      'display_url': 'psychology.yale.edu/people/jennife…',\n",
       "      'indices': [0, 23]}]},\n",
       "   'description': {'urls': []}},\n",
       "  'protected': False,\n",
       "  'followers_count': 8588,\n",
       "  'friends_count': 1054,\n",
       "  'listed_count': 189,\n",
       "  'created_at': 'Thu Jan 05 18:09:50 +0000 2012',\n",
       "  'favourites_count': 27850,\n",
       "  'utc_offset': None,\n",
       "  'time_zone': None,\n",
       "  'geo_enabled': False,\n",
       "  'verified': False,\n",
       "  'statuses_count': 28232,\n",
       "  'lang': None,\n",
       "  'contributors_enabled': False,\n",
       "  'is_translator': False,\n",
       "  'is_translation_enabled': False,\n",
       "  'profile_background_color': 'C0DEED',\n",
       "  'profile_background_image_url': 'http://abs.twimg.com/images/themes/theme1/bg.png',\n",
       "  'profile_background_image_url_https': 'https://abs.twimg.com/images/themes/theme1/bg.png',\n",
       "  'profile_background_tile': False,\n",
       "  'profile_image_url': 'http://pbs.twimg.com/profile_images/1735528112/JRapa_normal.jpg',\n",
       "  'profile_image_url_https': 'https://pbs.twimg.com/profile_images/1735528112/JRapa_normal.jpg',\n",
       "  'profile_banner_url': 'https://pbs.twimg.com/profile_banners/455949997/1465937671',\n",
       "  'profile_link_color': '1DA1F2',\n",
       "  'profile_sidebar_border_color': 'C0DEED',\n",
       "  'profile_sidebar_fill_color': 'DDEEF6',\n",
       "  'profile_text_color': '333333',\n",
       "  'profile_use_background_image': True,\n",
       "  'has_extended_profile': False,\n",
       "  'default_profile': True,\n",
       "  'default_profile_image': False,\n",
       "  'following': False,\n",
       "  'follow_request_sent': False,\n",
       "  'notifications': False,\n",
       "  'translator_type': 'none'},\n",
       " 'geo': None,\n",
       " 'coordinates': None,\n",
       " 'place': None,\n",
       " 'contributors': None,\n",
       " 'retweeted_status': {'created_at': 'Sun Feb 07 23:50:35 +0000 2021',\n",
       "  'id': 1358563841286701057,\n",
       "  'id_str': '1358563841286701057',\n",
       "  'text': 'Attacks against Asian Americans is as old as America itself but the sheer volume and number have gone up astronomic… https://t.co/5WW65OrqGc',\n",
       "  'truncated': True,\n",
       "  'metadata': {'iso_language_code': 'en', 'result_type': 'recent'},\n",
       "  'source': '<a href=\"https://mobile.twitter.com\" rel=\"nofollow\">Twitter Web App</a>',\n",
       "  'in_reply_to_status_id': None,\n",
       "  'in_reply_to_status_id_str': None,\n",
       "  'in_reply_to_user_id': None,\n",
       "  'in_reply_to_user_id_str': None,\n",
       "  'in_reply_to_screen_name': None,\n",
       "  'user': {'id': 33839296,\n",
       "   'id_str': '33839296',\n",
       "   'name': 'May-lee Chai',\n",
       "   'screen_name': 'mayleechai',\n",
       "   'location': '',\n",
       "   'description': 'New short story collection, USEFUL PHRASES FOR IMMIGRANTS, winner of the American Book Award. MFA prof. Prose in @kenyonreview, @parisreview, @NERweb, @zoramag.',\n",
       "   'url': 'https://t.co/xTcH9A40Yh',\n",
       "   'entities': {'url': {'urls': [{'url': 'https://t.co/xTcH9A40Yh',\n",
       "       'expanded_url': 'http://www.may-leechai.com',\n",
       "       'display_url': 'may-leechai.com',\n",
       "       'indices': [0, 23]}]},\n",
       "    'description': {'urls': []}},\n",
       "   'protected': False,\n",
       "   'followers_count': 2451,\n",
       "   'friends_count': 3090,\n",
       "   'listed_count': 93,\n",
       "   'created_at': 'Tue Apr 21 07:06:21 +0000 2009',\n",
       "   'favourites_count': 74564,\n",
       "   'utc_offset': None,\n",
       "   'time_zone': None,\n",
       "   'geo_enabled': False,\n",
       "   'verified': False,\n",
       "   'statuses_count': 44032,\n",
       "   'lang': None,\n",
       "   'contributors_enabled': False,\n",
       "   'is_translator': False,\n",
       "   'is_translation_enabled': False,\n",
       "   'profile_background_color': 'BADFCD',\n",
       "   'profile_background_image_url': 'http://abs.twimg.com/images/themes/theme12/bg.gif',\n",
       "   'profile_background_image_url_https': 'https://abs.twimg.com/images/themes/theme12/bg.gif',\n",
       "   'profile_background_tile': False,\n",
       "   'profile_image_url': 'http://pbs.twimg.com/profile_images/1332973775340544002/d5YlH-M2_normal.jpg',\n",
       "   'profile_image_url_https': 'https://pbs.twimg.com/profile_images/1332973775340544002/d5YlH-M2_normal.jpg',\n",
       "   'profile_banner_url': 'https://pbs.twimg.com/profile_banners/33839296/1526858721',\n",
       "   'profile_link_color': 'FF0000',\n",
       "   'profile_sidebar_border_color': 'F2E195',\n",
       "   'profile_sidebar_fill_color': 'FFF7CC',\n",
       "   'profile_text_color': '0C3E53',\n",
       "   'profile_use_background_image': True,\n",
       "   'has_extended_profile': False,\n",
       "   'default_profile': False,\n",
       "   'default_profile_image': False,\n",
       "   'following': False,\n",
       "   'follow_request_sent': False,\n",
       "   'notifications': False,\n",
       "   'translator_type': 'none'},\n",
       "  'geo': None,\n",
       "  'coordinates': None,\n",
       "  'place': None,\n",
       "  'contributors': None,\n",
       "  'is_quote_status': False,\n",
       "  'retweet_count': 572,\n",
       "  'favorite_count': 770,\n",
       "  'favorited': False,\n",
       "  'retweeted': False,\n",
       "  'possibly_sensitive': False,\n",
       "  'lang': 'en'},\n",
       " 'is_quote_status': False,\n",
       " 'retweet_count': 572,\n",
       " 'favorite_count': 0,\n",
       " 'favorited': False,\n",
       " 'retweeted': False,\n",
       " 'lang': 'en'}"
      ]
     },
     "execution_count": 8,
     "metadata": {},
     "output_type": "execute_result"
    }
   ],
   "source": [
    "results[0]"
   ]
  },
  {
   "cell_type": "markdown",
   "metadata": {},
   "source": [
    "Whooh! We have got so many tweets with us now!"
   ]
  },
  {
   "cell_type": "code",
   "execution_count": 9,
   "metadata": {},
   "outputs": [
    {
     "data": {
      "text/plain": [
       "18000"
      ]
     },
     "execution_count": 9,
     "metadata": {},
     "output_type": "execute_result"
    }
   ],
   "source": [
    "len(results)"
   ]
  },
  {
   "cell_type": "code",
   "execution_count": 10,
   "metadata": {},
   "outputs": [],
   "source": [
    "import pandas as pd"
   ]
  },
  {
   "cell_type": "code",
   "execution_count": 11,
   "metadata": {},
   "outputs": [],
   "source": [
    "df = pd.io.json.json_normalize(results)"
   ]
  },
  {
   "cell_type": "code",
   "execution_count": 12,
   "metadata": {},
   "outputs": [
    {
     "data": {
      "text/plain": [
       "Index(['created_at', 'id', 'id_str', 'text', 'truncated', 'source',\n",
       "       'in_reply_to_status_id', 'in_reply_to_status_id_str',\n",
       "       'in_reply_to_user_id', 'in_reply_to_user_id_str',\n",
       "       ...\n",
       "       'retweeted_status.quoted_status.place.country',\n",
       "       'retweeted_status.quoted_status.place.contained_within',\n",
       "       'retweeted_status.quoted_status.place.bounding_box.type',\n",
       "       'retweeted_status.quoted_status.place.bounding_box.coordinates',\n",
       "       'retweeted_status.geo.type', 'retweeted_status.geo.coordinates',\n",
       "       'retweeted_status.coordinates.type',\n",
       "       'retweeted_status.coordinates.coordinates', 'withheld_in_countries',\n",
       "       'user.withheld_in_countries'],\n",
       "      dtype='object', length=327)"
      ]
     },
     "execution_count": 12,
     "metadata": {},
     "output_type": "execute_result"
    }
   ],
   "source": [
    "df.columns"
   ]
  },
  {
   "cell_type": "code",
   "execution_count": 13,
   "metadata": {
    "scrolled": false
   },
   "outputs": [
    {
     "data": {
      "text/html": [
       "<div>\n",
       "<style scoped>\n",
       "    .dataframe tbody tr th:only-of-type {\n",
       "        vertical-align: middle;\n",
       "    }\n",
       "\n",
       "    .dataframe tbody tr th {\n",
       "        vertical-align: top;\n",
       "    }\n",
       "\n",
       "    .dataframe thead th {\n",
       "        text-align: right;\n",
       "    }\n",
       "</style>\n",
       "<table border=\"1\" class=\"dataframe\">\n",
       "  <thead>\n",
       "    <tr style=\"text-align: right;\">\n",
       "      <th></th>\n",
       "      <th>created_at</th>\n",
       "      <th>id</th>\n",
       "      <th>id_str</th>\n",
       "      <th>text</th>\n",
       "      <th>truncated</th>\n",
       "      <th>source</th>\n",
       "      <th>in_reply_to_status_id</th>\n",
       "      <th>in_reply_to_status_id_str</th>\n",
       "      <th>in_reply_to_user_id</th>\n",
       "      <th>in_reply_to_user_id_str</th>\n",
       "      <th>...</th>\n",
       "      <th>retweeted_status.quoted_status.place.country</th>\n",
       "      <th>retweeted_status.quoted_status.place.contained_within</th>\n",
       "      <th>retweeted_status.quoted_status.place.bounding_box.type</th>\n",
       "      <th>retweeted_status.quoted_status.place.bounding_box.coordinates</th>\n",
       "      <th>retweeted_status.geo.type</th>\n",
       "      <th>retweeted_status.geo.coordinates</th>\n",
       "      <th>retweeted_status.coordinates.type</th>\n",
       "      <th>retweeted_status.coordinates.coordinates</th>\n",
       "      <th>withheld_in_countries</th>\n",
       "      <th>user.withheld_in_countries</th>\n",
       "    </tr>\n",
       "  </thead>\n",
       "  <tbody>\n",
       "    <tr>\n",
       "      <td>0</td>\n",
       "      <td>Mon Feb 08 13:50:43 +0000 2021</td>\n",
       "      <td>1358775270031826952</td>\n",
       "      <td>1358775270031826952</td>\n",
       "      <td>RT @mayleechai: Attacks against Asian American...</td>\n",
       "      <td>False</td>\n",
       "      <td>&lt;a href=\"http://twitter.com/download/iphone\" r...</td>\n",
       "      <td>NaN</td>\n",
       "      <td>None</td>\n",
       "      <td>NaN</td>\n",
       "      <td>None</td>\n",
       "      <td>...</td>\n",
       "      <td>NaN</td>\n",
       "      <td>NaN</td>\n",
       "      <td>NaN</td>\n",
       "      <td>NaN</td>\n",
       "      <td>NaN</td>\n",
       "      <td>NaN</td>\n",
       "      <td>NaN</td>\n",
       "      <td>NaN</td>\n",
       "      <td>NaN</td>\n",
       "      <td>NaN</td>\n",
       "    </tr>\n",
       "    <tr>\n",
       "      <td>1</td>\n",
       "      <td>Mon Feb 08 13:50:43 +0000 2021</td>\n",
       "      <td>1358775269805486090</td>\n",
       "      <td>1358775269805486090</td>\n",
       "      <td>RT @BLMK_CCGs: If you have an appointment for ...</td>\n",
       "      <td>False</td>\n",
       "      <td>&lt;a href=\"https://mobile.twitter.com\" rel=\"nofo...</td>\n",
       "      <td>NaN</td>\n",
       "      <td>None</td>\n",
       "      <td>NaN</td>\n",
       "      <td>None</td>\n",
       "      <td>...</td>\n",
       "      <td>NaN</td>\n",
       "      <td>NaN</td>\n",
       "      <td>NaN</td>\n",
       "      <td>NaN</td>\n",
       "      <td>NaN</td>\n",
       "      <td>NaN</td>\n",
       "      <td>NaN</td>\n",
       "      <td>NaN</td>\n",
       "      <td>NaN</td>\n",
       "      <td>NaN</td>\n",
       "    </tr>\n",
       "    <tr>\n",
       "      <td>2</td>\n",
       "      <td>Mon Feb 08 13:50:43 +0000 2021</td>\n",
       "      <td>1358775268337471490</td>\n",
       "      <td>1358775268337471490</td>\n",
       "      <td>RT @Reuters: French tourists weary of their co...</td>\n",
       "      <td>False</td>\n",
       "      <td>&lt;a href=\"http://twitter.com/download/iphone\" r...</td>\n",
       "      <td>NaN</td>\n",
       "      <td>None</td>\n",
       "      <td>NaN</td>\n",
       "      <td>None</td>\n",
       "      <td>...</td>\n",
       "      <td>NaN</td>\n",
       "      <td>NaN</td>\n",
       "      <td>NaN</td>\n",
       "      <td>NaN</td>\n",
       "      <td>NaN</td>\n",
       "      <td>NaN</td>\n",
       "      <td>NaN</td>\n",
       "      <td>NaN</td>\n",
       "      <td>NaN</td>\n",
       "      <td>NaN</td>\n",
       "    </tr>\n",
       "    <tr>\n",
       "      <td>3</td>\n",
       "      <td>Mon Feb 08 13:50:43 +0000 2021</td>\n",
       "      <td>1358775267657850883</td>\n",
       "      <td>1358775267657850883</td>\n",
       "      <td>RT @priesterspr: Open neurons you have to unde...</td>\n",
       "      <td>False</td>\n",
       "      <td>&lt;a href=\"http://twitter.com/download/iphone\" r...</td>\n",
       "      <td>NaN</td>\n",
       "      <td>None</td>\n",
       "      <td>NaN</td>\n",
       "      <td>None</td>\n",
       "      <td>...</td>\n",
       "      <td>NaN</td>\n",
       "      <td>NaN</td>\n",
       "      <td>NaN</td>\n",
       "      <td>NaN</td>\n",
       "      <td>NaN</td>\n",
       "      <td>NaN</td>\n",
       "      <td>NaN</td>\n",
       "      <td>NaN</td>\n",
       "      <td>NaN</td>\n",
       "      <td>NaN</td>\n",
       "    </tr>\n",
       "    <tr>\n",
       "      <td>4</td>\n",
       "      <td>Mon Feb 08 13:50:43 +0000 2021</td>\n",
       "      <td>1358775267334971393</td>\n",
       "      <td>1358775267334971393</td>\n",
       "      <td>RT @MassDPH: The COVID-19 vaccine is FREE. Whe...</td>\n",
       "      <td>False</td>\n",
       "      <td>&lt;a href=\"http://twitter.com/download/iphone\" r...</td>\n",
       "      <td>NaN</td>\n",
       "      <td>None</td>\n",
       "      <td>NaN</td>\n",
       "      <td>None</td>\n",
       "      <td>...</td>\n",
       "      <td>NaN</td>\n",
       "      <td>NaN</td>\n",
       "      <td>NaN</td>\n",
       "      <td>NaN</td>\n",
       "      <td>NaN</td>\n",
       "      <td>NaN</td>\n",
       "      <td>NaN</td>\n",
       "      <td>NaN</td>\n",
       "      <td>NaN</td>\n",
       "      <td>NaN</td>\n",
       "    </tr>\n",
       "  </tbody>\n",
       "</table>\n",
       "<p>5 rows × 327 columns</p>\n",
       "</div>"
      ],
      "text/plain": [
       "                       created_at                   id               id_str  \\\n",
       "0  Mon Feb 08 13:50:43 +0000 2021  1358775270031826952  1358775270031826952   \n",
       "1  Mon Feb 08 13:50:43 +0000 2021  1358775269805486090  1358775269805486090   \n",
       "2  Mon Feb 08 13:50:43 +0000 2021  1358775268337471490  1358775268337471490   \n",
       "3  Mon Feb 08 13:50:43 +0000 2021  1358775267657850883  1358775267657850883   \n",
       "4  Mon Feb 08 13:50:43 +0000 2021  1358775267334971393  1358775267334971393   \n",
       "\n",
       "                                                text  truncated  \\\n",
       "0  RT @mayleechai: Attacks against Asian American...      False   \n",
       "1  RT @BLMK_CCGs: If you have an appointment for ...      False   \n",
       "2  RT @Reuters: French tourists weary of their co...      False   \n",
       "3  RT @priesterspr: Open neurons you have to unde...      False   \n",
       "4  RT @MassDPH: The COVID-19 vaccine is FREE. Whe...      False   \n",
       "\n",
       "                                              source  in_reply_to_status_id  \\\n",
       "0  <a href=\"http://twitter.com/download/iphone\" r...                    NaN   \n",
       "1  <a href=\"https://mobile.twitter.com\" rel=\"nofo...                    NaN   \n",
       "2  <a href=\"http://twitter.com/download/iphone\" r...                    NaN   \n",
       "3  <a href=\"http://twitter.com/download/iphone\" r...                    NaN   \n",
       "4  <a href=\"http://twitter.com/download/iphone\" r...                    NaN   \n",
       "\n",
       "  in_reply_to_status_id_str  in_reply_to_user_id in_reply_to_user_id_str  ...  \\\n",
       "0                      None                  NaN                    None  ...   \n",
       "1                      None                  NaN                    None  ...   \n",
       "2                      None                  NaN                    None  ...   \n",
       "3                      None                  NaN                    None  ...   \n",
       "4                      None                  NaN                    None  ...   \n",
       "\n",
       "  retweeted_status.quoted_status.place.country  \\\n",
       "0                                          NaN   \n",
       "1                                          NaN   \n",
       "2                                          NaN   \n",
       "3                                          NaN   \n",
       "4                                          NaN   \n",
       "\n",
       "   retweeted_status.quoted_status.place.contained_within  \\\n",
       "0                                                NaN       \n",
       "1                                                NaN       \n",
       "2                                                NaN       \n",
       "3                                                NaN       \n",
       "4                                                NaN       \n",
       "\n",
       "   retweeted_status.quoted_status.place.bounding_box.type  \\\n",
       "0                                                NaN        \n",
       "1                                                NaN        \n",
       "2                                                NaN        \n",
       "3                                                NaN        \n",
       "4                                                NaN        \n",
       "\n",
       "   retweeted_status.quoted_status.place.bounding_box.coordinates  \\\n",
       "0                                                NaN               \n",
       "1                                                NaN               \n",
       "2                                                NaN               \n",
       "3                                                NaN               \n",
       "4                                                NaN               \n",
       "\n",
       "  retweeted_status.geo.type  retweeted_status.geo.coordinates  \\\n",
       "0                       NaN                               NaN   \n",
       "1                       NaN                               NaN   \n",
       "2                       NaN                               NaN   \n",
       "3                       NaN                               NaN   \n",
       "4                       NaN                               NaN   \n",
       "\n",
       "   retweeted_status.coordinates.type  \\\n",
       "0                                NaN   \n",
       "1                                NaN   \n",
       "2                                NaN   \n",
       "3                                NaN   \n",
       "4                                NaN   \n",
       "\n",
       "   retweeted_status.coordinates.coordinates  withheld_in_countries  \\\n",
       "0                                       NaN                    NaN   \n",
       "1                                       NaN                    NaN   \n",
       "2                                       NaN                    NaN   \n",
       "3                                       NaN                    NaN   \n",
       "4                                       NaN                    NaN   \n",
       "\n",
       "   user.withheld_in_countries  \n",
       "0                         NaN  \n",
       "1                         NaN  \n",
       "2                         NaN  \n",
       "3                         NaN  \n",
       "4                         NaN  \n",
       "\n",
       "[5 rows x 327 columns]"
      ]
     },
     "execution_count": 13,
     "metadata": {},
     "output_type": "execute_result"
    }
   ],
   "source": [
    "df.head()"
   ]
  },
  {
   "cell_type": "markdown",
   "metadata": {},
   "source": [
    "Now let us drop the 'id_str' column since that does not make any sense in our project and let us also set 'id' column as the index since each tweet has its own unique id"
   ]
  },
  {
   "cell_type": "code",
   "execution_count": 14,
   "metadata": {},
   "outputs": [],
   "source": [
    "df.set_index('id',drop=True,inplace=True)\n",
    "df.drop('id_str',axis=1,inplace=True)"
   ]
  },
  {
   "cell_type": "code",
   "execution_count": 15,
   "metadata": {},
   "outputs": [
    {
     "data": {
      "text/html": [
       "<div>\n",
       "<style scoped>\n",
       "    .dataframe tbody tr th:only-of-type {\n",
       "        vertical-align: middle;\n",
       "    }\n",
       "\n",
       "    .dataframe tbody tr th {\n",
       "        vertical-align: top;\n",
       "    }\n",
       "\n",
       "    .dataframe thead th {\n",
       "        text-align: right;\n",
       "    }\n",
       "</style>\n",
       "<table border=\"1\" class=\"dataframe\">\n",
       "  <thead>\n",
       "    <tr style=\"text-align: right;\">\n",
       "      <th></th>\n",
       "      <th>created_at</th>\n",
       "      <th>text</th>\n",
       "      <th>truncated</th>\n",
       "      <th>source</th>\n",
       "      <th>in_reply_to_status_id</th>\n",
       "      <th>in_reply_to_status_id_str</th>\n",
       "      <th>in_reply_to_user_id</th>\n",
       "      <th>in_reply_to_user_id_str</th>\n",
       "      <th>in_reply_to_screen_name</th>\n",
       "      <th>geo</th>\n",
       "      <th>...</th>\n",
       "      <th>retweeted_status.quoted_status.place.country</th>\n",
       "      <th>retweeted_status.quoted_status.place.contained_within</th>\n",
       "      <th>retweeted_status.quoted_status.place.bounding_box.type</th>\n",
       "      <th>retweeted_status.quoted_status.place.bounding_box.coordinates</th>\n",
       "      <th>retweeted_status.geo.type</th>\n",
       "      <th>retweeted_status.geo.coordinates</th>\n",
       "      <th>retweeted_status.coordinates.type</th>\n",
       "      <th>retweeted_status.coordinates.coordinates</th>\n",
       "      <th>withheld_in_countries</th>\n",
       "      <th>user.withheld_in_countries</th>\n",
       "    </tr>\n",
       "    <tr>\n",
       "      <th>id</th>\n",
       "      <th></th>\n",
       "      <th></th>\n",
       "      <th></th>\n",
       "      <th></th>\n",
       "      <th></th>\n",
       "      <th></th>\n",
       "      <th></th>\n",
       "      <th></th>\n",
       "      <th></th>\n",
       "      <th></th>\n",
       "      <th></th>\n",
       "      <th></th>\n",
       "      <th></th>\n",
       "      <th></th>\n",
       "      <th></th>\n",
       "      <th></th>\n",
       "      <th></th>\n",
       "      <th></th>\n",
       "      <th></th>\n",
       "      <th></th>\n",
       "      <th></th>\n",
       "    </tr>\n",
       "  </thead>\n",
       "  <tbody>\n",
       "    <tr>\n",
       "      <td>1358775270031826952</td>\n",
       "      <td>Mon Feb 08 13:50:43 +0000 2021</td>\n",
       "      <td>RT @mayleechai: Attacks against Asian American...</td>\n",
       "      <td>False</td>\n",
       "      <td>&lt;a href=\"http://twitter.com/download/iphone\" r...</td>\n",
       "      <td>NaN</td>\n",
       "      <td>None</td>\n",
       "      <td>NaN</td>\n",
       "      <td>None</td>\n",
       "      <td>None</td>\n",
       "      <td>NaN</td>\n",
       "      <td>...</td>\n",
       "      <td>NaN</td>\n",
       "      <td>NaN</td>\n",
       "      <td>NaN</td>\n",
       "      <td>NaN</td>\n",
       "      <td>NaN</td>\n",
       "      <td>NaN</td>\n",
       "      <td>NaN</td>\n",
       "      <td>NaN</td>\n",
       "      <td>NaN</td>\n",
       "      <td>NaN</td>\n",
       "    </tr>\n",
       "    <tr>\n",
       "      <td>1358775269805486090</td>\n",
       "      <td>Mon Feb 08 13:50:43 +0000 2021</td>\n",
       "      <td>RT @BLMK_CCGs: If you have an appointment for ...</td>\n",
       "      <td>False</td>\n",
       "      <td>&lt;a href=\"https://mobile.twitter.com\" rel=\"nofo...</td>\n",
       "      <td>NaN</td>\n",
       "      <td>None</td>\n",
       "      <td>NaN</td>\n",
       "      <td>None</td>\n",
       "      <td>None</td>\n",
       "      <td>NaN</td>\n",
       "      <td>...</td>\n",
       "      <td>NaN</td>\n",
       "      <td>NaN</td>\n",
       "      <td>NaN</td>\n",
       "      <td>NaN</td>\n",
       "      <td>NaN</td>\n",
       "      <td>NaN</td>\n",
       "      <td>NaN</td>\n",
       "      <td>NaN</td>\n",
       "      <td>NaN</td>\n",
       "      <td>NaN</td>\n",
       "    </tr>\n",
       "    <tr>\n",
       "      <td>1358775268337471490</td>\n",
       "      <td>Mon Feb 08 13:50:43 +0000 2021</td>\n",
       "      <td>RT @Reuters: French tourists weary of their co...</td>\n",
       "      <td>False</td>\n",
       "      <td>&lt;a href=\"http://twitter.com/download/iphone\" r...</td>\n",
       "      <td>NaN</td>\n",
       "      <td>None</td>\n",
       "      <td>NaN</td>\n",
       "      <td>None</td>\n",
       "      <td>None</td>\n",
       "      <td>NaN</td>\n",
       "      <td>...</td>\n",
       "      <td>NaN</td>\n",
       "      <td>NaN</td>\n",
       "      <td>NaN</td>\n",
       "      <td>NaN</td>\n",
       "      <td>NaN</td>\n",
       "      <td>NaN</td>\n",
       "      <td>NaN</td>\n",
       "      <td>NaN</td>\n",
       "      <td>NaN</td>\n",
       "      <td>NaN</td>\n",
       "    </tr>\n",
       "    <tr>\n",
       "      <td>1358775267657850883</td>\n",
       "      <td>Mon Feb 08 13:50:43 +0000 2021</td>\n",
       "      <td>RT @priesterspr: Open neurons you have to unde...</td>\n",
       "      <td>False</td>\n",
       "      <td>&lt;a href=\"http://twitter.com/download/iphone\" r...</td>\n",
       "      <td>NaN</td>\n",
       "      <td>None</td>\n",
       "      <td>NaN</td>\n",
       "      <td>None</td>\n",
       "      <td>None</td>\n",
       "      <td>NaN</td>\n",
       "      <td>...</td>\n",
       "      <td>NaN</td>\n",
       "      <td>NaN</td>\n",
       "      <td>NaN</td>\n",
       "      <td>NaN</td>\n",
       "      <td>NaN</td>\n",
       "      <td>NaN</td>\n",
       "      <td>NaN</td>\n",
       "      <td>NaN</td>\n",
       "      <td>NaN</td>\n",
       "      <td>NaN</td>\n",
       "    </tr>\n",
       "    <tr>\n",
       "      <td>1358775267334971393</td>\n",
       "      <td>Mon Feb 08 13:50:43 +0000 2021</td>\n",
       "      <td>RT @MassDPH: The COVID-19 vaccine is FREE. Whe...</td>\n",
       "      <td>False</td>\n",
       "      <td>&lt;a href=\"http://twitter.com/download/iphone\" r...</td>\n",
       "      <td>NaN</td>\n",
       "      <td>None</td>\n",
       "      <td>NaN</td>\n",
       "      <td>None</td>\n",
       "      <td>None</td>\n",
       "      <td>NaN</td>\n",
       "      <td>...</td>\n",
       "      <td>NaN</td>\n",
       "      <td>NaN</td>\n",
       "      <td>NaN</td>\n",
       "      <td>NaN</td>\n",
       "      <td>NaN</td>\n",
       "      <td>NaN</td>\n",
       "      <td>NaN</td>\n",
       "      <td>NaN</td>\n",
       "      <td>NaN</td>\n",
       "      <td>NaN</td>\n",
       "    </tr>\n",
       "  </tbody>\n",
       "</table>\n",
       "<p>5 rows × 325 columns</p>\n",
       "</div>"
      ],
      "text/plain": [
       "                                         created_at  \\\n",
       "id                                                    \n",
       "1358775270031826952  Mon Feb 08 13:50:43 +0000 2021   \n",
       "1358775269805486090  Mon Feb 08 13:50:43 +0000 2021   \n",
       "1358775268337471490  Mon Feb 08 13:50:43 +0000 2021   \n",
       "1358775267657850883  Mon Feb 08 13:50:43 +0000 2021   \n",
       "1358775267334971393  Mon Feb 08 13:50:43 +0000 2021   \n",
       "\n",
       "                                                                  text  \\\n",
       "id                                                                       \n",
       "1358775270031826952  RT @mayleechai: Attacks against Asian American...   \n",
       "1358775269805486090  RT @BLMK_CCGs: If you have an appointment for ...   \n",
       "1358775268337471490  RT @Reuters: French tourists weary of their co...   \n",
       "1358775267657850883  RT @priesterspr: Open neurons you have to unde...   \n",
       "1358775267334971393  RT @MassDPH: The COVID-19 vaccine is FREE. Whe...   \n",
       "\n",
       "                     truncated  \\\n",
       "id                               \n",
       "1358775270031826952      False   \n",
       "1358775269805486090      False   \n",
       "1358775268337471490      False   \n",
       "1358775267657850883      False   \n",
       "1358775267334971393      False   \n",
       "\n",
       "                                                                source  \\\n",
       "id                                                                       \n",
       "1358775270031826952  <a href=\"http://twitter.com/download/iphone\" r...   \n",
       "1358775269805486090  <a href=\"https://mobile.twitter.com\" rel=\"nofo...   \n",
       "1358775268337471490  <a href=\"http://twitter.com/download/iphone\" r...   \n",
       "1358775267657850883  <a href=\"http://twitter.com/download/iphone\" r...   \n",
       "1358775267334971393  <a href=\"http://twitter.com/download/iphone\" r...   \n",
       "\n",
       "                     in_reply_to_status_id in_reply_to_status_id_str  \\\n",
       "id                                                                     \n",
       "1358775270031826952                    NaN                      None   \n",
       "1358775269805486090                    NaN                      None   \n",
       "1358775268337471490                    NaN                      None   \n",
       "1358775267657850883                    NaN                      None   \n",
       "1358775267334971393                    NaN                      None   \n",
       "\n",
       "                     in_reply_to_user_id in_reply_to_user_id_str  \\\n",
       "id                                                                 \n",
       "1358775270031826952                  NaN                    None   \n",
       "1358775269805486090                  NaN                    None   \n",
       "1358775268337471490                  NaN                    None   \n",
       "1358775267657850883                  NaN                    None   \n",
       "1358775267334971393                  NaN                    None   \n",
       "\n",
       "                    in_reply_to_screen_name  geo  ...  \\\n",
       "id                                                ...   \n",
       "1358775270031826952                    None  NaN  ...   \n",
       "1358775269805486090                    None  NaN  ...   \n",
       "1358775268337471490                    None  NaN  ...   \n",
       "1358775267657850883                    None  NaN  ...   \n",
       "1358775267334971393                    None  NaN  ...   \n",
       "\n",
       "                     retweeted_status.quoted_status.place.country  \\\n",
       "id                                                                  \n",
       "1358775270031826952                                           NaN   \n",
       "1358775269805486090                                           NaN   \n",
       "1358775268337471490                                           NaN   \n",
       "1358775267657850883                                           NaN   \n",
       "1358775267334971393                                           NaN   \n",
       "\n",
       "                     retweeted_status.quoted_status.place.contained_within  \\\n",
       "id                                                                           \n",
       "1358775270031826952                                                NaN       \n",
       "1358775269805486090                                                NaN       \n",
       "1358775268337471490                                                NaN       \n",
       "1358775267657850883                                                NaN       \n",
       "1358775267334971393                                                NaN       \n",
       "\n",
       "                    retweeted_status.quoted_status.place.bounding_box.type  \\\n",
       "id                                                                           \n",
       "1358775270031826952                                                NaN       \n",
       "1358775269805486090                                                NaN       \n",
       "1358775268337471490                                                NaN       \n",
       "1358775267657850883                                                NaN       \n",
       "1358775267334971393                                                NaN       \n",
       "\n",
       "                     retweeted_status.quoted_status.place.bounding_box.coordinates  \\\n",
       "id                                                                                   \n",
       "1358775270031826952                                                NaN               \n",
       "1358775269805486090                                                NaN               \n",
       "1358775268337471490                                                NaN               \n",
       "1358775267657850883                                                NaN               \n",
       "1358775267334971393                                                NaN               \n",
       "\n",
       "                     retweeted_status.geo.type  \\\n",
       "id                                               \n",
       "1358775270031826952                        NaN   \n",
       "1358775269805486090                        NaN   \n",
       "1358775268337471490                        NaN   \n",
       "1358775267657850883                        NaN   \n",
       "1358775267334971393                        NaN   \n",
       "\n",
       "                     retweeted_status.geo.coordinates  \\\n",
       "id                                                      \n",
       "1358775270031826952                               NaN   \n",
       "1358775269805486090                               NaN   \n",
       "1358775268337471490                               NaN   \n",
       "1358775267657850883                               NaN   \n",
       "1358775267334971393                               NaN   \n",
       "\n",
       "                     retweeted_status.coordinates.type  \\\n",
       "id                                                       \n",
       "1358775270031826952                                NaN   \n",
       "1358775269805486090                                NaN   \n",
       "1358775268337471490                                NaN   \n",
       "1358775267657850883                                NaN   \n",
       "1358775267334971393                                NaN   \n",
       "\n",
       "                     retweeted_status.coordinates.coordinates  \\\n",
       "id                                                              \n",
       "1358775270031826952                                       NaN   \n",
       "1358775269805486090                                       NaN   \n",
       "1358775268337471490                                       NaN   \n",
       "1358775267657850883                                       NaN   \n",
       "1358775267334971393                                       NaN   \n",
       "\n",
       "                    withheld_in_countries user.withheld_in_countries  \n",
       "id                                                                    \n",
       "1358775270031826952                   NaN                        NaN  \n",
       "1358775269805486090                   NaN                        NaN  \n",
       "1358775268337471490                   NaN                        NaN  \n",
       "1358775267657850883                   NaN                        NaN  \n",
       "1358775267334971393                   NaN                        NaN  \n",
       "\n",
       "[5 rows x 325 columns]"
      ]
     },
     "execution_count": 15,
     "metadata": {},
     "output_type": "execute_result"
    }
   ],
   "source": [
    "df.head()"
   ]
  },
  {
   "cell_type": "code",
   "execution_count": 15,
   "metadata": {},
   "outputs": [
    {
     "data": {
      "text/html": [
       "<div>\n",
       "<style scoped>\n",
       "    .dataframe tbody tr th:only-of-type {\n",
       "        vertical-align: middle;\n",
       "    }\n",
       "\n",
       "    .dataframe tbody tr th {\n",
       "        vertical-align: top;\n",
       "    }\n",
       "\n",
       "    .dataframe thead th {\n",
       "        text-align: right;\n",
       "    }\n",
       "</style>\n",
       "<table border=\"1\" class=\"dataframe\">\n",
       "  <thead>\n",
       "    <tr style=\"text-align: right;\">\n",
       "      <th></th>\n",
       "      <th>created_at</th>\n",
       "      <th>user.screen_name</th>\n",
       "      <th>text</th>\n",
       "    </tr>\n",
       "    <tr>\n",
       "      <th>id</th>\n",
       "      <th></th>\n",
       "      <th></th>\n",
       "      <th></th>\n",
       "    </tr>\n",
       "  </thead>\n",
       "  <tbody>\n",
       "    <tr>\n",
       "      <td>1345709889084121089</td>\n",
       "      <td>Sun Jan 03 12:33:34 +0000 2021</td>\n",
       "      <td>HavelockRoadBTN</td>\n",
       "      <td>@onlytruejames @onlytruejosh It's still possib...</td>\n",
       "    </tr>\n",
       "    <tr>\n",
       "      <td>1345709886101979138</td>\n",
       "      <td>Sun Jan 03 12:33:33 +0000 2021</td>\n",
       "      <td>LarsAnd04510461</td>\n",
       "      <td>@TayIor69 @1nsane_dev Since when does Apple cu...</td>\n",
       "    </tr>\n",
       "    <tr>\n",
       "      <td>1345709885414117376</td>\n",
       "      <td>Sun Jan 03 12:33:33 +0000 2021</td>\n",
       "      <td>hotspritis</td>\n",
       "      <td>its amazing how good and memorable each track ...</td>\n",
       "    </tr>\n",
       "    <tr>\n",
       "      <td>1345709880405966850</td>\n",
       "      <td>Sun Jan 03 12:33:32 +0000 2021</td>\n",
       "      <td>miggipsan</td>\n",
       "      <td>RT @kodzekun: BSD 2021 release dates!\\n\\nbsd c...</td>\n",
       "    </tr>\n",
       "    <tr>\n",
       "      <td>1345709875922411523</td>\n",
       "      <td>Sun Jan 03 12:33:31 +0000 2021</td>\n",
       "      <td>wf_jayzee</td>\n",
       "      <td>RT @TheFrogKiller: South Africans 🇿🇦 are showi...</td>\n",
       "    </tr>\n",
       "  </tbody>\n",
       "</table>\n",
       "</div>"
      ],
      "text/plain": [
       "                                         created_at user.screen_name  \\\n",
       "id                                                                     \n",
       "1345709889084121089  Sun Jan 03 12:33:34 +0000 2021  HavelockRoadBTN   \n",
       "1345709886101979138  Sun Jan 03 12:33:33 +0000 2021  LarsAnd04510461   \n",
       "1345709885414117376  Sun Jan 03 12:33:33 +0000 2021       hotspritis   \n",
       "1345709880405966850  Sun Jan 03 12:33:32 +0000 2021        miggipsan   \n",
       "1345709875922411523  Sun Jan 03 12:33:31 +0000 2021        wf_jayzee   \n",
       "\n",
       "                                                                  text  \n",
       "id                                                                      \n",
       "1345709889084121089  @onlytruejames @onlytruejosh It's still possib...  \n",
       "1345709886101979138  @TayIor69 @1nsane_dev Since when does Apple cu...  \n",
       "1345709885414117376  its amazing how good and memorable each track ...  \n",
       "1345709880405966850  RT @kodzekun: BSD 2021 release dates!\\n\\nbsd c...  \n",
       "1345709875922411523  RT @TheFrogKiller: South Africans 🇿🇦 are showi...  "
      ]
     },
     "execution_count": 15,
     "metadata": {},
     "output_type": "execute_result"
    }
   ],
   "source": [
    "df[['created_at', 'user.screen_name', 'text']].head()"
   ]
  },
  {
   "cell_type": "code",
   "execution_count": 16,
   "metadata": {},
   "outputs": [
    {
     "data": {
      "text/plain": [
       "(18000, 325)"
      ]
     },
     "execution_count": 16,
     "metadata": {},
     "output_type": "execute_result"
    }
   ],
   "source": [
    "df.shape"
   ]
  },
  {
   "cell_type": "markdown",
   "metadata": {},
   "source": [
    "## Processing the tweets"
   ]
  },
  {
   "cell_type": "code",
   "execution_count": 17,
   "metadata": {},
   "outputs": [
    {
     "data": {
      "text/plain": [
       "id\n",
       "1345709889084121089    @onlytruejames @onlytruejosh It's still possib...\n",
       "1345709886101979138    @TayIor69 @1nsane_dev Since when does Apple cu...\n",
       "1345709885414117376    its amazing how good and memorable each track ...\n",
       "1345709880405966850    RT @kodzekun: BSD 2021 release dates!\\n\\nbsd c...\n",
       "1345709875922411523    RT @TheFrogKiller: South Africans 🇿🇦 are showi...\n",
       "1345709871795081218    RT @sprywc: Due to COVID19 I’ll be blessing th...\n",
       "1345709870876667936    RT @statisticslm: UK mixers leave spotify if y...\n",
       "1345709863272329217    RT @williamkruse88: Apple reconsiders banning ...\n",
       "1345709861900840960    RT @kehindee_b: How to drink apple juice: http...\n",
       "1345709859988267009                    Eating up https://t.co/lG4xxUckfw\n",
       "Name: text, dtype: object"
      ]
     },
     "execution_count": 17,
     "metadata": {},
     "output_type": "execute_result"
    }
   ],
   "source": [
    "df['text'].head(n=10)"
   ]
  },
  {
   "cell_type": "markdown",
   "metadata": {},
   "source": [
    "Here, we are trying to remove the stopwords from the tweets. Stop words are basically a set of commonly used words in any language, not just English. The reason why stop words are critical to many applications is that, if we remove the words that are very commonly used in a given language, we can focus on the important words instead. "
   ]
  },
  {
   "cell_type": "code",
   "execution_count": 17,
   "metadata": {},
   "outputs": [],
   "source": [
    "from nltk.corpus import stopwords"
   ]
  },
  {
   "cell_type": "code",
   "execution_count": 18,
   "metadata": {},
   "outputs": [],
   "source": [
    "additional  = ['rt','rts','retweet'] # we can store additional stopwords here\n",
    "swords = set().union(stopwords.words('english'),additional) "
   ]
  },
  {
   "cell_type": "markdown",
   "metadata": {},
   "source": [
    "Here are the list of words that are considered as stopwords in the nltk package"
   ]
  },
  {
   "cell_type": "code",
   "execution_count": 22,
   "metadata": {},
   "outputs": [
    {
     "data": {
      "text/plain": [
       "{'a',\n",
       " 'about',\n",
       " 'above',\n",
       " 'after',\n",
       " 'again',\n",
       " 'against',\n",
       " 'ain',\n",
       " 'all',\n",
       " 'am',\n",
       " 'an',\n",
       " 'and',\n",
       " 'any',\n",
       " 'are',\n",
       " 'aren',\n",
       " \"aren't\",\n",
       " 'as',\n",
       " 'at',\n",
       " 'be',\n",
       " 'because',\n",
       " 'been',\n",
       " 'before',\n",
       " 'being',\n",
       " 'below',\n",
       " 'between',\n",
       " 'both',\n",
       " 'but',\n",
       " 'by',\n",
       " 'can',\n",
       " 'couldn',\n",
       " \"couldn't\",\n",
       " 'd',\n",
       " 'did',\n",
       " 'didn',\n",
       " \"didn't\",\n",
       " 'do',\n",
       " 'does',\n",
       " 'doesn',\n",
       " \"doesn't\",\n",
       " 'doing',\n",
       " 'don',\n",
       " \"don't\",\n",
       " 'down',\n",
       " 'during',\n",
       " 'each',\n",
       " 'few',\n",
       " 'for',\n",
       " 'from',\n",
       " 'further',\n",
       " 'had',\n",
       " 'hadn',\n",
       " \"hadn't\",\n",
       " 'has',\n",
       " 'hasn',\n",
       " \"hasn't\",\n",
       " 'have',\n",
       " 'haven',\n",
       " \"haven't\",\n",
       " 'having',\n",
       " 'he',\n",
       " 'her',\n",
       " 'here',\n",
       " 'hers',\n",
       " 'herself',\n",
       " 'him',\n",
       " 'himself',\n",
       " 'his',\n",
       " 'how',\n",
       " 'i',\n",
       " 'if',\n",
       " 'in',\n",
       " 'into',\n",
       " 'is',\n",
       " 'isn',\n",
       " \"isn't\",\n",
       " 'it',\n",
       " \"it's\",\n",
       " 'its',\n",
       " 'itself',\n",
       " 'just',\n",
       " 'll',\n",
       " 'm',\n",
       " 'ma',\n",
       " 'me',\n",
       " 'mightn',\n",
       " \"mightn't\",\n",
       " 'more',\n",
       " 'most',\n",
       " 'mustn',\n",
       " \"mustn't\",\n",
       " 'my',\n",
       " 'myself',\n",
       " 'needn',\n",
       " \"needn't\",\n",
       " 'no',\n",
       " 'nor',\n",
       " 'not',\n",
       " 'now',\n",
       " 'o',\n",
       " 'of',\n",
       " 'off',\n",
       " 'on',\n",
       " 'once',\n",
       " 'only',\n",
       " 'or',\n",
       " 'other',\n",
       " 'our',\n",
       " 'ours',\n",
       " 'ourselves',\n",
       " 'out',\n",
       " 'over',\n",
       " 'own',\n",
       " 're',\n",
       " 'retweet',\n",
       " 'rt',\n",
       " 'rts',\n",
       " 's',\n",
       " 'same',\n",
       " 'shan',\n",
       " \"shan't\",\n",
       " 'she',\n",
       " \"she's\",\n",
       " 'should',\n",
       " \"should've\",\n",
       " 'shouldn',\n",
       " \"shouldn't\",\n",
       " 'so',\n",
       " 'some',\n",
       " 'such',\n",
       " 't',\n",
       " 'than',\n",
       " 'that',\n",
       " \"that'll\",\n",
       " 'the',\n",
       " 'their',\n",
       " 'theirs',\n",
       " 'them',\n",
       " 'themselves',\n",
       " 'then',\n",
       " 'there',\n",
       " 'these',\n",
       " 'they',\n",
       " 'this',\n",
       " 'those',\n",
       " 'through',\n",
       " 'to',\n",
       " 'too',\n",
       " 'under',\n",
       " 'until',\n",
       " 'up',\n",
       " 've',\n",
       " 'very',\n",
       " 'was',\n",
       " 'wasn',\n",
       " \"wasn't\",\n",
       " 'we',\n",
       " 'were',\n",
       " 'weren',\n",
       " \"weren't\",\n",
       " 'what',\n",
       " 'when',\n",
       " 'where',\n",
       " 'which',\n",
       " 'while',\n",
       " 'who',\n",
       " 'whom',\n",
       " 'why',\n",
       " 'will',\n",
       " 'with',\n",
       " 'won',\n",
       " \"won't\",\n",
       " 'wouldn',\n",
       " \"wouldn't\",\n",
       " 'y',\n",
       " 'you',\n",
       " \"you'd\",\n",
       " \"you'll\",\n",
       " \"you're\",\n",
       " \"you've\",\n",
       " 'your',\n",
       " 'yours',\n",
       " 'yourself',\n",
       " 'yourselves'}"
      ]
     },
     "execution_count": 22,
     "metadata": {},
     "output_type": "execute_result"
    }
   ],
   "source": [
    "swords"
   ]
  },
  {
   "cell_type": "markdown",
   "metadata": {},
   "source": [
    "Let us remove the duplicate tweets also"
   ]
  },
  {
   "cell_type": "code",
   "execution_count": 24,
   "metadata": {},
   "outputs": [],
   "source": [
    "df.drop_duplicates(subset='text',inplace=True)"
   ]
  },
  {
   "cell_type": "markdown",
   "metadata": {},
   "source": [
    "After removing the duplicates we have these many tweets left with us"
   ]
  },
  {
   "cell_type": "code",
   "execution_count": 27,
   "metadata": {
    "scrolled": false
   },
   "outputs": [
    {
     "data": {
      "text/plain": [
       "(9772, 325)"
      ]
     },
     "execution_count": 27,
     "metadata": {},
     "output_type": "execute_result"
    }
   ],
   "source": [
    "df.shape"
   ]
  },
  {
   "cell_type": "markdown",
   "metadata": {},
   "source": [
    "Let us also remove special characters, numbers and links"
   ]
  },
  {
   "cell_type": "code",
   "execution_count": 28,
   "metadata": {},
   "outputs": [],
   "source": [
    "df['processed_text'] = df['text'].str.lower()\\\n",
    "          .str.replace('(@[a-z0-9]+)\\w+',' ')\\\n",
    "          .str.replace('(http\\S+)', ' ')\\\n",
    "          .str.replace('([^0-9a-z \\t])',' ')\\\n",
    "          .str.replace(' +',' ')\\\n",
    "          .apply(lambda x: [i for i in x.split() if not i in swords])"
   ]
  },
  {
   "cell_type": "code",
   "execution_count": 29,
   "metadata": {
    "scrolled": true
   },
   "outputs": [
    {
     "data": {
      "text/plain": [
       "id\n",
       "1358775270031826952    [attacks, asian, americans, old, america, shee...\n",
       "1358775269805486090    [appointment, covid, vaccination, today, pleas...\n",
       "1358775268337471490    [french, tourists, weary, country, strict, nat...\n",
       "1358775267657850883    [open, neurons, understand, map, road, fear, a...\n",
       "1358775267334971393    [covid, 19, vaccine, free, turn, receive, vacc...\n",
       "1358775266923982848    [bangladesh, government, launches, nationwide,...\n",
       "1358775266894610437    [bangladesh, government, launches, nationwide,...\n",
       "1358775266865258498    [bangladesh, government, launches, nationwide,...\n",
       "1358775266529734658    [marc, train, face, covering, reduce, spread, ...\n",
       "1358775265627832320    [hancock, also, announced, today, government, ...\n",
       "Name: processed_text, dtype: object"
      ]
     },
     "execution_count": 29,
     "metadata": {},
     "output_type": "execute_result"
    }
   ],
   "source": [
    "df['processed_text'].head(n=10)"
   ]
  },
  {
   "cell_type": "markdown",
   "metadata": {},
   "source": [
    "Here, we are stemming the data. Stemming is the process of producing morphological variants of a root/base word.  For example, a stemming algorithm reduces the words “chocolates”, “chocolatey”, “choco” to the root word, “chocolate” "
   ]
  },
  {
   "cell_type": "code",
   "execution_count": 31,
   "metadata": {},
   "outputs": [],
   "source": [
    "from nltk.stem import PorterStemmer\n",
    "ps = PorterStemmer()"
   ]
  },
  {
   "cell_type": "code",
   "execution_count": 32,
   "metadata": {},
   "outputs": [],
   "source": [
    "df['stemmed'] = df['processed_text'].apply(lambda x: [ps.stem(i) for i in x if i != ''])"
   ]
  },
  {
   "cell_type": "code",
   "execution_count": 33,
   "metadata": {},
   "outputs": [
    {
     "data": {
      "text/plain": [
       "id\n",
       "1358775270031826952    [attack, asian, american, old, america, sheer,...\n",
       "1358775269805486090    [appoint, covid, vaccin, today, pleas, attend,...\n",
       "1358775268337471490    [french, tourist, weari, countri, strict, nati...\n",
       "1358775267657850883    [open, neuron, understand, map, road, fear, am...\n",
       "1358775267334971393    [covid, 19, vaccin, free, turn, receiv, vaccin...\n",
       "1358775266923982848    [bangladesh, govern, launch, nationwid, mass, ...\n",
       "1358775266894610437    [bangladesh, govern, launch, nationwid, mass, ...\n",
       "1358775266865258498    [bangladesh, govern, launch, nationwid, mass, ...\n",
       "1358775266529734658    [marc, train, face, cover, reduc, spread, covi...\n",
       "1358775265627832320    [hancock, also, announc, today, govern, secur,...\n",
       "Name: stemmed, dtype: object"
      ]
     },
     "execution_count": 33,
     "metadata": {},
     "output_type": "execute_result"
    }
   ],
   "source": [
    "df['stemmed'].head(n=10)"
   ]
  },
  {
   "cell_type": "markdown",
   "metadata": {},
   "source": [
    "### Sentiment Analysis"
   ]
  },
  {
   "cell_type": "markdown",
   "metadata": {},
   "source": [
    "In this section let us try to figure out the sentiment reflected in each tweet. For this purpose we use a class called vader from nltk.sentiment which helps us find the sentiment. The more negative the value is, the more negative is the sentiment and vice versa"
   ]
  },
  {
   "cell_type": "code",
   "execution_count": 34,
   "metadata": {},
   "outputs": [
    {
     "name": "stderr",
     "output_type": "stream",
     "text": [
      "[nltk_data] Downloading package vader_lexicon to\n",
      "[nltk_data]     C:\\Users\\Lenovo\\AppData\\Roaming\\nltk_data...\n",
      "[nltk_data]   Package vader_lexicon is already up-to-date!\n"
     ]
    },
    {
     "data": {
      "text/plain": [
       "True"
      ]
     },
     "execution_count": 34,
     "metadata": {},
     "output_type": "execute_result"
    }
   ],
   "source": [
    "import nltk.sentiment.vader as vd\n",
    "from nltk import download\n",
    "download('vader_lexicon')"
   ]
  },
  {
   "cell_type": "code",
   "execution_count": 35,
   "metadata": {},
   "outputs": [],
   "source": [
    "sia = vd.SentimentIntensityAnalyzer()"
   ]
  },
  {
   "cell_type": "code",
   "execution_count": 36,
   "metadata": {},
   "outputs": [
    {
     "name": "stderr",
     "output_type": "stream",
     "text": [
      "[nltk_data] Downloading package punkt to\n",
      "[nltk_data]     C:\\Users\\Lenovo\\AppData\\Roaming\\nltk_data...\n",
      "[nltk_data]   Package punkt is already up-to-date!\n"
     ]
    },
    {
     "data": {
      "text/plain": [
       "True"
      ]
     },
     "execution_count": 36,
     "metadata": {},
     "output_type": "execute_result"
    }
   ],
   "source": [
    "from nltk.tokenize import word_tokenize\n",
    "import nltk\n",
    "nltk.download('punkt')"
   ]
  },
  {
   "cell_type": "code",
   "execution_count": 37,
   "metadata": {},
   "outputs": [],
   "source": [
    "df['sentiment_score'] = df['processed_text'].apply(lambda x: sum([sia.polarity_scores(i)['compound'] for i in word_tokenize( ' '.join(x) )]) )"
   ]
  },
  {
   "cell_type": "code",
   "execution_count": 40,
   "metadata": {},
   "outputs": [
    {
     "data": {
      "text/html": [
       "<div>\n",
       "<style scoped>\n",
       "    .dataframe tbody tr th:only-of-type {\n",
       "        vertical-align: middle;\n",
       "    }\n",
       "\n",
       "    .dataframe tbody tr th {\n",
       "        vertical-align: top;\n",
       "    }\n",
       "\n",
       "    .dataframe thead th {\n",
       "        text-align: right;\n",
       "    }\n",
       "</style>\n",
       "<table border=\"1\" class=\"dataframe\">\n",
       "  <thead>\n",
       "    <tr style=\"text-align: right;\">\n",
       "      <th></th>\n",
       "      <th>processed_text</th>\n",
       "      <th>sentiment_score</th>\n",
       "    </tr>\n",
       "    <tr>\n",
       "      <th>id</th>\n",
       "      <th></th>\n",
       "      <th></th>\n",
       "    </tr>\n",
       "  </thead>\n",
       "  <tbody>\n",
       "    <tr>\n",
       "      <td>1358775270031826952</td>\n",
       "      <td>[attacks, asian, americans, old, america, shee...</td>\n",
       "      <td>-0.9206</td>\n",
       "    </tr>\n",
       "    <tr>\n",
       "      <td>1358775269805486090</td>\n",
       "      <td>[appointment, covid, vaccination, today, pleas...</td>\n",
       "      <td>0.3182</td>\n",
       "    </tr>\n",
       "    <tr>\n",
       "      <td>1358775268337471490</td>\n",
       "      <td>[french, tourists, weary, country, strict, nat...</td>\n",
       "      <td>-0.2732</td>\n",
       "    </tr>\n",
       "    <tr>\n",
       "      <td>1358775267657850883</td>\n",
       "      <td>[open, neurons, understand, map, road, fear, a...</td>\n",
       "      <td>-0.9706</td>\n",
       "    </tr>\n",
       "    <tr>\n",
       "      <td>1358775267334971393</td>\n",
       "      <td>[covid, 19, vaccine, free, turn, receive, vacc...</td>\n",
       "      <td>1.0212</td>\n",
       "    </tr>\n",
       "    <tr>\n",
       "      <td>1358775266923982848</td>\n",
       "      <td>[bangladesh, government, launches, nationwide,...</td>\n",
       "      <td>0.1222</td>\n",
       "    </tr>\n",
       "    <tr>\n",
       "      <td>1358775266894610437</td>\n",
       "      <td>[bangladesh, government, launches, nationwide,...</td>\n",
       "      <td>0.1222</td>\n",
       "    </tr>\n",
       "    <tr>\n",
       "      <td>1358775266865258498</td>\n",
       "      <td>[bangladesh, government, launches, nationwide,...</td>\n",
       "      <td>0.1222</td>\n",
       "    </tr>\n",
       "    <tr>\n",
       "      <td>1358775266529734658</td>\n",
       "      <td>[marc, train, face, covering, reduce, spread, ...</td>\n",
       "      <td>0.3818</td>\n",
       "    </tr>\n",
       "    <tr>\n",
       "      <td>1358775265627832320</td>\n",
       "      <td>[hancock, also, announced, today, government, ...</td>\n",
       "      <td>0.4019</td>\n",
       "    </tr>\n",
       "  </tbody>\n",
       "</table>\n",
       "</div>"
      ],
      "text/plain": [
       "                                                        processed_text  \\\n",
       "id                                                                       \n",
       "1358775270031826952  [attacks, asian, americans, old, america, shee...   \n",
       "1358775269805486090  [appointment, covid, vaccination, today, pleas...   \n",
       "1358775268337471490  [french, tourists, weary, country, strict, nat...   \n",
       "1358775267657850883  [open, neurons, understand, map, road, fear, a...   \n",
       "1358775267334971393  [covid, 19, vaccine, free, turn, receive, vacc...   \n",
       "1358775266923982848  [bangladesh, government, launches, nationwide,...   \n",
       "1358775266894610437  [bangladesh, government, launches, nationwide,...   \n",
       "1358775266865258498  [bangladesh, government, launches, nationwide,...   \n",
       "1358775266529734658  [marc, train, face, covering, reduce, spread, ...   \n",
       "1358775265627832320  [hancock, also, announced, today, government, ...   \n",
       "\n",
       "                     sentiment_score  \n",
       "id                                    \n",
       "1358775270031826952          -0.9206  \n",
       "1358775269805486090           0.3182  \n",
       "1358775268337471490          -0.2732  \n",
       "1358775267657850883          -0.9706  \n",
       "1358775267334971393           1.0212  \n",
       "1358775266923982848           0.1222  \n",
       "1358775266894610437           0.1222  \n",
       "1358775266865258498           0.1222  \n",
       "1358775266529734658           0.3818  \n",
       "1358775265627832320           0.4019  "
      ]
     },
     "execution_count": 40,
     "metadata": {},
     "output_type": "execute_result"
    }
   ],
   "source": [
    "df[['processed_text','sentiment_score']].head(n=10)"
   ]
  },
  {
   "cell_type": "code",
   "execution_count": 41,
   "metadata": {},
   "outputs": [
    {
     "data": {
      "text/plain": [
       " 0    7064\n",
       " 1    1476\n",
       "-1    1092\n",
       " 2      77\n",
       "-2      61\n",
       "-3       2\n",
       "Name: sentiment_score, dtype: int64"
      ]
     },
     "execution_count": 41,
     "metadata": {},
     "output_type": "execute_result"
    }
   ],
   "source": [
    "df['sentiment_score'].apply(lambda x: round(x,)).value_counts()"
   ]
  },
  {
   "cell_type": "code",
   "execution_count": 110,
   "metadata": {},
   "outputs": [
    {
     "data": {
      "text/plain": [
       "<matplotlib.axes._subplots.AxesSubplot at 0x1b935c8d248>"
      ]
     },
     "execution_count": 110,
     "metadata": {},
     "output_type": "execute_result"
    },
    {
     "data": {
      "image/png": "[encoded data removed]",
      "text/plain": [
       "<Figure size 432x288 with 1 Axes>"
      ]
     },
     "metadata": {
      "needs_background": "light"
     },
     "output_type": "display_data"
    }
   ],
   "source": [
    "df['sentiment_score'].hist()"
   ]
  },
  {
   "cell_type": "markdown",
   "metadata": {},
   "source": [
    "In order to make it user understandable, let us categorize this as ['strongly negative', 'negative', 'neutral', 'positive', 'strongly positive'] depending upon the sentiment scores"
   ]
  },
  {
   "cell_type": "code",
   "execution_count": 111,
   "metadata": {},
   "outputs": [],
   "source": [
    "sent_clasification = pd.cut(df['sentiment_score'],\\\n",
    "          [-3,-1.2, 0, 0.1, 1.2 , 3],\\\n",
    "          right=True,\\\n",
    "          include_lowest=True,\\\n",
    "          labels=['strongly negative', 'negative', 'neutral', 'positive', 'strongly positive'])"
   ]
  },
  {
   "cell_type": "code",
   "execution_count": 112,
   "metadata": {},
   "outputs": [
    {
     "data": {
      "text/plain": [
       "negative             5855\n",
       "positive             3278\n",
       "neutral               305\n",
       "strongly positive     209\n",
       "strongly negative     125\n",
       "Name: sentiment_score, dtype: int64"
      ]
     },
     "execution_count": 112,
     "metadata": {},
     "output_type": "execute_result"
    }
   ],
   "source": [
    "sent_clasification.value_counts()"
   ]
  },
  {
   "cell_type": "code",
   "execution_count": 113,
   "metadata": {},
   "outputs": [
    {
     "data": {
      "text/plain": [
       "<matplotlib.axes._subplots.AxesSubplot at 0x1b93b958d08>"
      ]
     },
     "execution_count": 113,
     "metadata": {},
     "output_type": "execute_result"
    },
    {
     "data": {
      "image/png": "[encoded data removed]",
      "text/plain": [
       "<Figure size 432x288 with 1 Axes>"
      ]
     },
     "metadata": {
      "needs_background": "light"
     },
     "output_type": "display_data"
    }
   ],
   "source": [
    "sent_clasification.value_counts().plot(kind='bar')"
   ]
  },
  {
   "cell_type": "code",
   "execution_count": 114,
   "metadata": {},
   "outputs": [
    {
     "data": {
      "image/png": "[encoded data removed]",
      "text/plain": [
       "<Figure size 432x288 with 1 Axes>"
      ]
     },
     "metadata": {},
     "output_type": "display_data"
    }
   ],
   "source": [
    "sent_clasification.value_counts().plot(kind='pie')\n",
    "plt.grid(False)"
   ]
  },
  {
   "cell_type": "markdown",
   "metadata": {},
   "source": [
    "We can see that  negative tweets are found in a larger proportion"
   ]
  },
  {
   "cell_type": "markdown",
   "metadata": {},
   "source": [
    "### User Category"
   ]
  },
  {
   "cell_type": "markdown",
   "metadata": {},
   "source": [
    "Here, let us try to categorize the tweets based on the users who tweeted it. Generally if the followers count of a given user is more, then we can assume that the tweet can be more influencial and vice versa. For this purpose, let us categorize the users as ['small','medium','wide'] depending upon their followers count"
   ]
  },
  {
   "cell_type": "code",
   "execution_count": 42,
   "metadata": {
    "scrolled": true
   },
   "outputs": [],
   "source": [
    "df['user_audience_category'] = pd.cut(df['user.followers_count'],[0,300,10000,999999999],include_lowest=True,labels=['small','medium','wide'])"
   ]
  },
  {
   "cell_type": "code",
   "execution_count": 43,
   "metadata": {},
   "outputs": [
    {
     "data": {
      "text/plain": [
       "id\n",
       "1358775270031826952    medium\n",
       "1358775269805486090    medium\n",
       "1358775268337471490    medium\n",
       "1358775267657850883     small\n",
       "1358775267334971393     small\n",
       "Name: user_audience_category, dtype: category\n",
       "Categories (3, object): [small < medium < wide]"
      ]
     },
     "execution_count": 43,
     "metadata": {},
     "output_type": "execute_result"
    }
   ],
   "source": [
    "df['user_audience_category'].head()"
   ]
  },
  {
   "cell_type": "code",
   "execution_count": 109,
   "metadata": {},
   "outputs": [
    {
     "data": {
      "text/plain": [
       "<matplotlib.axes._subplots.AxesSubplot at 0x1b9385e4d48>"
      ]
     },
     "execution_count": 109,
     "metadata": {},
     "output_type": "execute_result"
    },
    {
     "data": {
      "image/png": "[encoded data removed]",
      "text/plain": [
       "<Figure size 432x288 with 1 Axes>"
      ]
     },
     "metadata": {
      "needs_background": "light"
     },
     "output_type": "display_data"
    }
   ],
   "source": [
    "df['user_audience_category'].value_counts().plot(kind='bar',x='User type',y='Range of tweets')"
   ]
  },
  {
   "cell_type": "markdown",
   "metadata": {},
   "source": [
    "### Location pattern"
   ]
  },
  {
   "cell_type": "markdown",
   "metadata": {},
   "source": [
    "Now let us understand from where these tweets come and how are they distributed globally. "
   ]
  },
  {
   "cell_type": "code",
   "execution_count": 76,
   "metadata": {
    "scrolled": true
   },
   "outputs": [],
   "source": [
    "locs = df.drop(df[df['user.location'] == \"\"].index)['user.location']"
   ]
  },
  {
   "cell_type": "code",
   "execution_count": 79,
   "metadata": {},
   "outputs": [
    {
     "data": {
      "text/plain": [
       "[117, 99, 95, 82, 73, 64, 60, 52, 50, 38]"
      ]
     },
     "execution_count": 79,
     "metadata": {},
     "output_type": "execute_result"
    }
   ],
   "source": [
    "loc=locs.value_counts().head(n=10)\n",
    "loc_ind = list(loc.index)\n",
    "loc_val = list(loc"
   ]
  },
  {
   "cell_type": "code",
   "execution_count": 80,
   "metadata": {},
   "outputs": [],
   "source": [
    "import matplotlib.pyplot as plt"
   ]
  },
  {
   "cell_type": "code",
   "execution_count": 81,
   "metadata": {},
   "outputs": [
    {
     "data": {
      "text/plain": [
       "([0, 1, 2, 3, 4, 5, 6, 7, 8, 9], <a list of 10 Text xticklabel objects>)"
      ]
     },
     "execution_count": 81,
     "metadata": {},
     "output_type": "execute_result"
    },
    {
     "data": {
      "image/png": "[encoded data removed]",
      "text/plain": [
       "<Figure size 432x288 with 1 Axes>"
      ]
     },
     "metadata": {
      "needs_background": "light"
     },
     "output_type": "display_data"
    }
   ],
   "source": [
    "plt.bar(loc_ind,loc_val)\n",
    "plt.xticks(rotation=90)"
   ]
  },
  {
   "cell_type": "markdown",
   "metadata": {},
   "source": [
    "### Word Cloud"
   ]
  },
  {
   "cell_type": "markdown",
   "metadata": {},
   "source": [
    "A word cloud is a collection, or cluster, of words depicted in different sizes. The bigger and bolder the word appears, the more often it’s mentioned within a given text and the more important it is."
   ]
  },
  {
   "cell_type": "code",
   "execution_count": 91,
   "metadata": {},
   "outputs": [],
   "source": [
    "from wordcloud import WordCloud, STOPWORDS"
   ]
  },
  {
   "cell_type": "code",
   "execution_count": 92,
   "metadata": {},
   "outputs": [],
   "source": [
    "bigstring = df['processed_text'].apply(lambda x: ' '.join(x)).str.cat(sep=' ')"
   ]
  },
  {
   "cell_type": "code",
   "execution_count": 93,
   "metadata": {},
   "outputs": [
    {
     "data": {
      "text/plain": [
       "<matplotlib.image.AxesImage at 0x1b9387c8c48>"
      ]
     },
     "execution_count": 93,
     "metadata": {},
     "output_type": "execute_result"
    },
    {
     "data": {
      "image/png": "[encoded data removed]",
      "text/plain": [
       "<Figure size 864x864 with 1 Axes>"
      ]
     },
     "metadata": {
      "needs_background": "light"
     },
     "output_type": "display_data"
    }
   ],
   "source": [
    "plt.figure(figsize=(12,12))\n",
    "wordcloud = WordCloud(stopwords=STOPWORDS,\n",
    "                          background_color='white',\n",
    "                          collocations=False,\n",
    "                          width=1200,\n",
    "                          height=1000\n",
    "                         ).generate(bigstring)\n",
    "plt.axis('off')\n",
    "plt.imshow(wordcloud)"
   ]
  },
  {
   "cell_type": "markdown",
   "metadata": {},
   "source": [
    "### Top Hashtags"
   ]
  },
  {
   "cell_type": "markdown",
   "metadata": {},
   "source": [
    "As all of us know, hashtags play a curcial role in twitter. Let us find out what are the top hashtags that people use when they tweet something about Covid-19"
   ]
  },
  {
   "cell_type": "code",
   "execution_count": 94,
   "metadata": {},
   "outputs": [],
   "source": [
    "import re\n",
    "hashtags = df['text'].apply(lambda x: pd.value_counts(re.findall('(#\\w+)', x.lower() )))\\\n",
    "                     .sum(axis=0)\\\n",
    "                     .to_frame()\\\n",
    "                     .reset_index()\\\n",
    "                     .sort_values(by=0,ascending=False)\n",
    "hashtags.columns = ['hashtag','occurences']"
   ]
  },
  {
   "cell_type": "code",
   "execution_count": 95,
   "metadata": {},
   "outputs": [
    {
     "data": {
      "text/html": [
       "<div>\n",
       "<style scoped>\n",
       "    .dataframe tbody tr th:only-of-type {\n",
       "        vertical-align: middle;\n",
       "    }\n",
       "\n",
       "    .dataframe tbody tr th {\n",
       "        vertical-align: top;\n",
       "    }\n",
       "\n",
       "    .dataframe thead th {\n",
       "        text-align: right;\n",
       "    }\n",
       "</style>\n",
       "<table border=\"1\" class=\"dataframe\">\n",
       "  <thead>\n",
       "    <tr style=\"text-align: right;\">\n",
       "      <th></th>\n",
       "      <th>hashtag</th>\n",
       "      <th>occurences</th>\n",
       "    </tr>\n",
       "  </thead>\n",
       "  <tbody>\n",
       "    <tr>\n",
       "      <td>212</td>\n",
       "      <td>#covid19</td>\n",
       "      <td>218.0</td>\n",
       "    </tr>\n",
       "    <tr>\n",
       "      <td>211</td>\n",
       "      <td>#covid</td>\n",
       "      <td>174.0</td>\n",
       "    </tr>\n",
       "    <tr>\n",
       "      <td>982</td>\n",
       "      <td>#vaccine</td>\n",
       "      <td>44.0</td>\n",
       "    </tr>\n",
       "    <tr>\n",
       "      <td>202</td>\n",
       "      <td>#coronavirus</td>\n",
       "      <td>33.0</td>\n",
       "    </tr>\n",
       "    <tr>\n",
       "      <td>221</td>\n",
       "      <td>#covid_19</td>\n",
       "      <td>23.0</td>\n",
       "    </tr>\n",
       "    <tr>\n",
       "      <td>900</td>\n",
       "      <td>#superbowl</td>\n",
       "      <td>23.0</td>\n",
       "    </tr>\n",
       "    <tr>\n",
       "      <td>704</td>\n",
       "      <td>#pandemic</td>\n",
       "      <td>15.0</td>\n",
       "    </tr>\n",
       "    <tr>\n",
       "      <td>60</td>\n",
       "      <td>#astrazeneca</td>\n",
       "      <td>14.0</td>\n",
       "    </tr>\n",
       "    <tr>\n",
       "      <td>908</td>\n",
       "      <td>#suriya</td>\n",
       "      <td>13.0</td>\n",
       "    </tr>\n",
       "    <tr>\n",
       "      <td>987</td>\n",
       "      <td>#vaccines</td>\n",
       "      <td>13.0</td>\n",
       "    </tr>\n",
       "  </tbody>\n",
       "</table>\n",
       "</div>"
      ],
      "text/plain": [
       "          hashtag  occurences\n",
       "212      #covid19       218.0\n",
       "211        #covid       174.0\n",
       "982      #vaccine        44.0\n",
       "202  #coronavirus        33.0\n",
       "221     #covid_19        23.0\n",
       "900    #superbowl        23.0\n",
       "704     #pandemic        15.0\n",
       "60   #astrazeneca        14.0\n",
       "908       #suriya        13.0\n",
       "987     #vaccines        13.0"
      ]
     },
     "execution_count": 95,
     "metadata": {},
     "output_type": "execute_result"
    }
   ],
   "source": [
    "hashtags.head(10)"
   ]
  },
  {
   "cell_type": "code",
   "execution_count": 96,
   "metadata": {
    "scrolled": true
   },
   "outputs": [
    {
     "data": {
      "image/png": "[encoded data removed]",
      "text/plain": [
       "<Figure size 432x288 with 1 Axes>"
      ]
     },
     "metadata": {
      "needs_background": "light"
     },
     "output_type": "display_data"
    }
   ],
   "source": [
    "hashtags[:10].plot(kind='bar',y='occurences',x='hashtag')\n",
    "plt.tight_layout()\n",
    "plt.grid(False)"
   ]
  },
  {
   "cell_type": "markdown",
   "metadata": {},
   "source": [
    "### Top Users Mentioned"
   ]
  },
  {
   "cell_type": "markdown",
   "metadata": {},
   "source": [
    "Twitter also provides the users with the facility to mention other users in their tweet. Let us find out who are the most tagged people"
   ]
  },
  {
   "cell_type": "code",
   "execution_count": 97,
   "metadata": {
    "scrolled": false
   },
   "outputs": [
    {
     "data": {
      "text/plain": [
       "<matplotlib.axes._subplots.AxesSubplot at 0x1b9387d16c8>"
      ]
     },
     "execution_count": 97,
     "metadata": {},
     "output_type": "execute_result"
    },
    {
     "data": {
      "image/png": "[encoded data removed]",
      "text/plain": [
       "<Figure size 432x288 with 1 Axes>"
      ]
     },
     "metadata": {
      "needs_background": "light"
     },
     "output_type": "display_data"
    }
   ],
   "source": [
    "plt.grid(False)\n",
    "plt.tight_layout()\n",
    "df['text'].str\\\n",
    "          .findall('(@[A-Za-z0-9]+)')\\\n",
    "          .apply(lambda x: pd.value_counts(x))\\\n",
    "          .sum(axis=0)\\\n",
    "          .sort_values(ascending=False)[:10]\\\n",
    "          .plot(kind='bar')"
   ]
  },
  {
   "cell_type": "markdown",
   "metadata": {},
   "source": [
    "### Top Words"
   ]
  },
  {
   "cell_type": "markdown",
   "metadata": {},
   "source": [
    "In this section, let us try to figure out what are the most common words that people use when they tweet something about covid"
   ]
  },
  {
   "cell_type": "code",
   "execution_count": 98,
   "metadata": {},
   "outputs": [],
   "source": [
    "words = df['processed_text'].dropna()\\\n",
    "                            .apply(lambda y: pd.value_counts(re.findall('([\\s]\\w+[\\s])',' '.join(y))))\\\n",
    "                            .sum(axis=0)\\\n",
    "                            .to_frame()\\\n",
    "                            .reset_index()\\\n",
    "                            .sort_values(by=0,ascending=False)\n",
    "words.columns = ['word','occurences']"
   ]
  },
  {
   "cell_type": "code",
   "execution_count": 99,
   "metadata": {},
   "outputs": [
    {
     "data": {
      "text/html": [
       "<div>\n",
       "<style scoped>\n",
       "    .dataframe tbody tr th:only-of-type {\n",
       "        vertical-align: middle;\n",
       "    }\n",
       "\n",
       "    .dataframe tbody tr th {\n",
       "        vertical-align: top;\n",
       "    }\n",
       "\n",
       "    .dataframe thead th {\n",
       "        text-align: right;\n",
       "    }\n",
       "</style>\n",
       "<table border=\"1\" class=\"dataframe\">\n",
       "  <thead>\n",
       "    <tr style=\"text-align: right;\">\n",
       "      <th></th>\n",
       "      <th>word</th>\n",
       "      <th>occurences</th>\n",
       "    </tr>\n",
       "  </thead>\n",
       "  <tbody>\n",
       "    <tr>\n",
       "      <td>2114</td>\n",
       "      <td>covid</td>\n",
       "      <td>2769.0</td>\n",
       "    </tr>\n",
       "    <tr>\n",
       "      <td>88</td>\n",
       "      <td>19</td>\n",
       "      <td>1272.0</td>\n",
       "    </tr>\n",
       "    <tr>\n",
       "      <td>8552</td>\n",
       "      <td>vaccine</td>\n",
       "      <td>436.0</td>\n",
       "    </tr>\n",
       "    <tr>\n",
       "      <td>5990</td>\n",
       "      <td>people</td>\n",
       "      <td>317.0</td>\n",
       "    </tr>\n",
       "    <tr>\n",
       "      <td>3598</td>\n",
       "      <td>get</td>\n",
       "      <td>202.0</td>\n",
       "    </tr>\n",
       "    <tr>\n",
       "      <td>637</td>\n",
       "      <td>amp</td>\n",
       "      <td>196.0</td>\n",
       "    </tr>\n",
       "    <tr>\n",
       "      <td>5539</td>\n",
       "      <td>new</td>\n",
       "      <td>183.0</td>\n",
       "    </tr>\n",
       "    <tr>\n",
       "      <td>5881</td>\n",
       "      <td>pandemic</td>\n",
       "      <td>183.0</td>\n",
       "    </tr>\n",
       "    <tr>\n",
       "      <td>3868</td>\n",
       "      <td>health</td>\n",
       "      <td>156.0</td>\n",
       "    </tr>\n",
       "    <tr>\n",
       "      <td>1528</td>\n",
       "      <td>cases</td>\n",
       "      <td>149.0</td>\n",
       "    </tr>\n",
       "  </tbody>\n",
       "</table>\n",
       "</div>"
      ],
      "text/plain": [
       "            word  occurences\n",
       "2114      covid       2769.0\n",
       "88           19       1272.0\n",
       "8552    vaccine        436.0\n",
       "5990     people        317.0\n",
       "3598        get        202.0\n",
       "637         amp        196.0\n",
       "5539        new        183.0\n",
       "5881   pandemic        183.0\n",
       "3868     health        156.0\n",
       "1528      cases        149.0"
      ]
     },
     "execution_count": 99,
     "metadata": {},
     "output_type": "execute_result"
    }
   ],
   "source": [
    "words.head(10)"
   ]
  },
  {
   "cell_type": "code",
   "execution_count": 100,
   "metadata": {
    "scrolled": false
   },
   "outputs": [
    {
     "data": {
      "image/png": "[encoded data removed]",
      "text/plain": [
       "<Figure size 432x288 with 1 Axes>"
      ]
     },
     "metadata": {
      "needs_background": "light"
     },
     "output_type": "display_data"
    }
   ],
   "source": [
    "words[:10].plot(kind='bar',y='occurences',x='word')\n",
    "plt.grid(False)\n",
    "plt.tight_layout()"
   ]
  },
  {
   "cell_type": "markdown",
   "metadata": {},
   "source": [
    "### Top Bigrams"
   ]
  },
  {
   "cell_type": "markdown",
   "metadata": {},
   "source": [
    " Bigram is two consecutive words in a sentence. In this section, let us find out what are the most commonly found bigrams "
   ]
  },
  {
   "cell_type": "code",
   "execution_count": 101,
   "metadata": {},
   "outputs": [],
   "source": [
    "from nltk import bigrams\n",
    "bigramseries = pd.Series([word for sublist in df['processed_text'].dropna()\\\n",
    "                    .apply(lambda x: [i for i in bigrams(x)])\\\n",
    "                    .tolist() for word in sublist])\\\n",
    "                    .value_counts()"
   ]
  },
  {
   "cell_type": "code",
   "execution_count": 102,
   "metadata": {
    "scrolled": false
   },
   "outputs": [
    {
     "data": {
      "text/plain": [
       "(covid, 19)         2460\n",
       "(19, vaccine)        305\n",
       "(covid, vaccine)     238\n",
       "(super, bowl)        135\n",
       "(south, africa)      120\n",
       "(19, pandemic)       107\n",
       "(get, covid)         106\n",
       "(19, vaccines)       101\n",
       "(due, covid)          95\n",
       "(19, cases)           92\n",
       "dtype: int64"
      ]
     },
     "execution_count": 102,
     "metadata": {},
     "output_type": "execute_result"
    }
   ],
   "source": [
    "bigramseries.head(10)"
   ]
  },
  {
   "cell_type": "code",
   "execution_count": 103,
   "metadata": {
    "scrolled": true
   },
   "outputs": [
    {
     "data": {
      "image/png": "[encoded data removed]",
      "text/plain": [
       "<Figure size 432x288 with 1 Axes>"
      ]
     },
     "metadata": {
      "needs_background": "light"
     },
     "output_type": "display_data"
    }
   ],
   "source": [
    "bigramseries[:10].plot(kind='bar')\n",
    "plt.tight_layout()"
   ]
  }
 ],
 "metadata": {
  "kernelspec": {
   "display_name": "Python 3",
   "language": "python",
   "name": "python3"
  },
  "language_info": {
   "codemirror_mode": {
    "name": "ipython",
    "version": 3
   },
   "file_extension": ".py",
   "mimetype": "text/x-python",
   "name": "python",
   "nbconvert_exporter": "python",
   "pygments_lexer": "ipython3",
   "version": "3.7.4"
  }
 },
 "nbformat": 4,
 "nbformat_minor": 1
}

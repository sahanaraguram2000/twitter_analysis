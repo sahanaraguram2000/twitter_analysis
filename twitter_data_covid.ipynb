{
 "cells": [
  {
   "cell_type": "markdown",
   "metadata": {},
   "source": [
    "#                                  Analysis of Tweets for Covid-19 "
   ]
  },
  {
   "cell_type": "markdown",
   "metadata": {},
   "source": [
    "In this project, we are going to analyse what people talk about Covid-19 in twitter. For this purpose we are using the Twitter's official API to fetch the data. There are various packages available in python which act as a wrapper for the Twitter's official API and TwitterSearch is one among them. In order to get the access to real time Twitter data, we might need a Twitter developer account. "
   ]
  },
  {
   "cell_type": "code",
   "execution_count": 15,
   "metadata": {},
   "outputs": [],
   "source": [
    "from TwitterSearch import TwitterSearch, TwitterSearchOrder, TwitterSearchException"
   ]
  },
  {
   "cell_type": "code",
   "execution_count": 16,
   "metadata": {},
   "outputs": [],
   "source": [
    "ts = TwitterSearch(access_token='', #your access token\n",
    "                       access_token_secret='', #your access token secret\n",
    "                       consumer_key= '', #your consumer key\n",
    "                       consumer_secret= '') # your consumer secret"
   ]
  },
  {
   "cell_type": "code",
   "execution_count": 17,
   "metadata": {},
   "outputs": [],
   "source": [
    "tso = TwitterSearchOrder()"
   ]
  },
  {
   "cell_type": "code",
   "execution_count": 18,
   "metadata": {},
   "outputs": [],
   "source": [
    "keywords, language = ['covid'], 'en'"
   ]
  },
  {
   "cell_type": "code",
   "execution_count": 19,
   "metadata": {},
   "outputs": [],
   "source": [
    "results = []"
   ]
  },
  {
   "cell_type": "code",
   "execution_count": 20,
   "metadata": {},
   "outputs": [],
   "source": [
    "tso.remove_all_filters()#remove all previously set filters\n",
    "tso.set_result_type('mixed') #you can choose between popular, recent or mixed tweets\n",
    "tso.set_keywords(keywords) # previously defined keywords\n",
    "tso.set_language(language) # en = english, de = german, ru=russian and so on\n",
    "tso.set_include_entities(False) #entities provide additional metadata"
   ]
  },
  {
   "cell_type": "code",
   "execution_count": 21,
   "metadata": {},
   "outputs": [],
   "source": [
    "for tweet in ts.search_tweets_iterable(tso):\n",
    "    results.append(tweet)"
   ]
  },
  {
   "cell_type": "markdown",
   "metadata": {},
   "source": [
    "The output of the following cell gives an outline of the data that we obtain from twitter for each tweet"
   ]
  },
  {
   "cell_type": "code",
   "execution_count": 22,
   "metadata": {
    "scrolled": true
   },
   "outputs": [
    {
     "data": {
      "text/plain": [
       "{'created_at': 'Sun Feb 07 16:48:51 +0000 2021',\n",
       " 'id': 1358457707632631808,\n",
       " 'id_str': '1358457707632631808',\n",
       " 'text': 'it’s so annoying to me that covid made it so i can’t drink wine w 5 of my friends in my house but 40 grown men can… https://t.co/rpm1F2gdzw',\n",
       " 'truncated': True,\n",
       " 'metadata': {'result_type': 'popular', 'iso_language_code': 'en'},\n",
       " 'source': '<a href=\"http://twitter.com/download/iphone\" rel=\"nofollow\">Twitter for iPhone</a>',\n",
       " 'in_reply_to_status_id': None,\n",
       " 'in_reply_to_status_id_str': None,\n",
       " 'in_reply_to_user_id': None,\n",
       " 'in_reply_to_user_id_str': None,\n",
       " 'in_reply_to_screen_name': None,\n",
       " 'user': {'id': 21573865,\n",
       "  'id_str': '21573865',\n",
       "  'name': 'Dana Donnelly',\n",
       "  'screen_name': 'danadonly',\n",
       "  'location': 'Los Angeles, CA',\n",
       "  'description': '😇 @youngoldpodcast @funnilingusla',\n",
       "  'url': 'https://t.co/CYluUgNx31',\n",
       "  'entities': {'url': {'urls': [{'url': 'https://t.co/CYluUgNx31',\n",
       "      'expanded_url': 'https://linktr.ee/Danadonnelly',\n",
       "      'display_url': 'linktr.ee/Danadonnelly',\n",
       "      'indices': [0, 23]}]},\n",
       "   'description': {'urls': []}},\n",
       "  'protected': False,\n",
       "  'followers_count': 138913,\n",
       "  'friends_count': 1410,\n",
       "  'listed_count': 253,\n",
       "  'created_at': 'Sun Feb 22 16:00:23 +0000 2009',\n",
       "  'favourites_count': 130053,\n",
       "  'utc_offset': None,\n",
       "  'time_zone': None,\n",
       "  'geo_enabled': True,\n",
       "  'verified': True,\n",
       "  'statuses_count': 11639,\n",
       "  'lang': None,\n",
       "  'contributors_enabled': False,\n",
       "  'is_translator': False,\n",
       "  'is_translation_enabled': False,\n",
       "  'profile_background_color': 'FFFFFF',\n",
       "  'profile_background_image_url': 'http://abs.twimg.com/images/themes/theme1/bg.png',\n",
       "  'profile_background_image_url_https': 'https://abs.twimg.com/images/themes/theme1/bg.png',\n",
       "  'profile_background_tile': True,\n",
       "  'profile_image_url': 'http://pbs.twimg.com/profile_images/1357216437987807233/ug0XQFz0_normal.jpg',\n",
       "  'profile_image_url_https': 'https://pbs.twimg.com/profile_images/1357216437987807233/ug0XQFz0_normal.jpg',\n",
       "  'profile_banner_url': 'https://pbs.twimg.com/profile_banners/21573865/1595524389',\n",
       "  'profile_link_color': 'FF0088',\n",
       "  'profile_sidebar_border_color': 'FFFFFF',\n",
       "  'profile_sidebar_fill_color': 'DDFFCC',\n",
       "  'profile_text_color': '333333',\n",
       "  'profile_use_background_image': True,\n",
       "  'has_extended_profile': True,\n",
       "  'default_profile': False,\n",
       "  'default_profile_image': False,\n",
       "  'following': False,\n",
       "  'follow_request_sent': False,\n",
       "  'notifications': False,\n",
       "  'translator_type': 'none'},\n",
       " 'geo': None,\n",
       " 'coordinates': None,\n",
       " 'place': None,\n",
       " 'contributors': None,\n",
       " 'is_quote_status': False,\n",
       " 'retweet_count': 13522,\n",
       " 'favorite_count': 173508,\n",
       " 'favorited': False,\n",
       " 'retweeted': False,\n",
       " 'lang': 'en'}"
      ]
     },
     "execution_count": 22,
     "metadata": {},
     "output_type": "execute_result"
    }
   ],
   "source": [
    "results[0]"
   ]
  },
  {
   "cell_type": "markdown",
   "metadata": {},
   "source": [
    "Whooh! We have got so many tweets with us now!"
   ]
  },
  {
   "cell_type": "code",
   "execution_count": 23,
   "metadata": {},
   "outputs": [
    {
     "data": {
      "text/plain": [
       "15300"
      ]
     },
     "execution_count": 23,
     "metadata": {},
     "output_type": "execute_result"
    }
   ],
   "source": [
    "len(results)"
   ]
  },
  {
   "cell_type": "code",
   "execution_count": 25,
   "metadata": {},
   "outputs": [],
   "source": [
    "import pandas as pd"
   ]
  },
  {
   "cell_type": "code",
   "execution_count": 26,
   "metadata": {},
   "outputs": [],
   "source": [
    "df = pd.io.json.json_normalize(results)"
   ]
  },
  {
   "cell_type": "code",
   "execution_count": 27,
   "metadata": {},
   "outputs": [
    {
     "data": {
      "text/plain": [
       "Index(['created_at', 'id', 'id_str', 'text', 'truncated', 'source',\n",
       "       'in_reply_to_status_id', 'in_reply_to_status_id_str',\n",
       "       'in_reply_to_user_id', 'in_reply_to_user_id_str',\n",
       "       ...\n",
       "       'geo.coordinates', 'coordinates.type', 'coordinates.coordinates',\n",
       "       'retweeted_status.geo.type', 'retweeted_status.geo.coordinates',\n",
       "       'retweeted_status.coordinates.type',\n",
       "       'retweeted_status.coordinates.coordinates', 'withheld_in_countries',\n",
       "       'retweeted_status.user.withheld_in_countries',\n",
       "       'retweeted_status.withheld_in_countries'],\n",
       "      dtype='object', length=329)"
      ]
     },
     "execution_count": 27,
     "metadata": {},
     "output_type": "execute_result"
    }
   ],
   "source": [
    "df.columns"
   ]
  },
  {
   "cell_type": "code",
   "execution_count": 28,
   "metadata": {
    "scrolled": false
   },
   "outputs": [
    {
     "data": {
      "text/html": [
       "<div>\n",
       "<style scoped>\n",
       "    .dataframe tbody tr th:only-of-type {\n",
       "        vertical-align: middle;\n",
       "    }\n",
       "\n",
       "    .dataframe tbody tr th {\n",
       "        vertical-align: top;\n",
       "    }\n",
       "\n",
       "    .dataframe thead th {\n",
       "        text-align: right;\n",
       "    }\n",
       "</style>\n",
       "<table border=\"1\" class=\"dataframe\">\n",
       "  <thead>\n",
       "    <tr style=\"text-align: right;\">\n",
       "      <th></th>\n",
       "      <th>created_at</th>\n",
       "      <th>id</th>\n",
       "      <th>id_str</th>\n",
       "      <th>text</th>\n",
       "      <th>truncated</th>\n",
       "      <th>source</th>\n",
       "      <th>in_reply_to_status_id</th>\n",
       "      <th>in_reply_to_status_id_str</th>\n",
       "      <th>in_reply_to_user_id</th>\n",
       "      <th>in_reply_to_user_id_str</th>\n",
       "      <th>...</th>\n",
       "      <th>geo.coordinates</th>\n",
       "      <th>coordinates.type</th>\n",
       "      <th>coordinates.coordinates</th>\n",
       "      <th>retweeted_status.geo.type</th>\n",
       "      <th>retweeted_status.geo.coordinates</th>\n",
       "      <th>retweeted_status.coordinates.type</th>\n",
       "      <th>retweeted_status.coordinates.coordinates</th>\n",
       "      <th>withheld_in_countries</th>\n",
       "      <th>retweeted_status.user.withheld_in_countries</th>\n",
       "      <th>retweeted_status.withheld_in_countries</th>\n",
       "    </tr>\n",
       "  </thead>\n",
       "  <tbody>\n",
       "    <tr>\n",
       "      <td>0</td>\n",
       "      <td>Sun Feb 07 16:48:51 +0000 2021</td>\n",
       "      <td>1358457707632631808</td>\n",
       "      <td>1358457707632631808</td>\n",
       "      <td>it’s so annoying to me that covid made it so i...</td>\n",
       "      <td>True</td>\n",
       "      <td>&lt;a href=\"http://twitter.com/download/iphone\" r...</td>\n",
       "      <td>NaN</td>\n",
       "      <td>None</td>\n",
       "      <td>NaN</td>\n",
       "      <td>None</td>\n",
       "      <td>...</td>\n",
       "      <td>NaN</td>\n",
       "      <td>NaN</td>\n",
       "      <td>NaN</td>\n",
       "      <td>NaN</td>\n",
       "      <td>NaN</td>\n",
       "      <td>NaN</td>\n",
       "      <td>NaN</td>\n",
       "      <td>NaN</td>\n",
       "      <td>NaN</td>\n",
       "      <td>NaN</td>\n",
       "    </tr>\n",
       "    <tr>\n",
       "      <td>1</td>\n",
       "      <td>Mon Feb 08 16:59:50 +0000 2021</td>\n",
       "      <td>1358822859947208704</td>\n",
       "      <td>1358822859947208704</td>\n",
       "      <td>How covid started vs. how covid’s going https:...</td>\n",
       "      <td>False</td>\n",
       "      <td>&lt;a href=\"http://twitter.com/download/iphone\" r...</td>\n",
       "      <td>NaN</td>\n",
       "      <td>None</td>\n",
       "      <td>NaN</td>\n",
       "      <td>None</td>\n",
       "      <td>...</td>\n",
       "      <td>NaN</td>\n",
       "      <td>NaN</td>\n",
       "      <td>NaN</td>\n",
       "      <td>NaN</td>\n",
       "      <td>NaN</td>\n",
       "      <td>NaN</td>\n",
       "      <td>NaN</td>\n",
       "      <td>NaN</td>\n",
       "      <td>NaN</td>\n",
       "      <td>NaN</td>\n",
       "    </tr>\n",
       "    <tr>\n",
       "      <td>2</td>\n",
       "      <td>Mon Feb 08 16:48:22 +0000 2021</td>\n",
       "      <td>1358819976388485122</td>\n",
       "      <td>1358819976388485122</td>\n",
       "      <td>It’s official. If you’ve lost a loved one due ...</td>\n",
       "      <td>True</td>\n",
       "      <td>&lt;a href=\"http://twitter.com/download/iphone\" r...</td>\n",
       "      <td>NaN</td>\n",
       "      <td>None</td>\n",
       "      <td>NaN</td>\n",
       "      <td>None</td>\n",
       "      <td>...</td>\n",
       "      <td>NaN</td>\n",
       "      <td>NaN</td>\n",
       "      <td>NaN</td>\n",
       "      <td>NaN</td>\n",
       "      <td>NaN</td>\n",
       "      <td>NaN</td>\n",
       "      <td>NaN</td>\n",
       "      <td>NaN</td>\n",
       "      <td>NaN</td>\n",
       "      <td>NaN</td>\n",
       "    </tr>\n",
       "    <tr>\n",
       "      <td>3</td>\n",
       "      <td>Tue Feb 09 04:21:04 +0000 2021</td>\n",
       "      <td>1358994298226761731</td>\n",
       "      <td>1358994298226761731</td>\n",
       "      <td>RT @ScottageeCheese: Dubs in Verdansk while ha...</td>\n",
       "      <td>False</td>\n",
       "      <td>&lt;a href=\"https://twitchsupports.glitch.me/\" re...</td>\n",
       "      <td>NaN</td>\n",
       "      <td>None</td>\n",
       "      <td>NaN</td>\n",
       "      <td>None</td>\n",
       "      <td>...</td>\n",
       "      <td>NaN</td>\n",
       "      <td>NaN</td>\n",
       "      <td>NaN</td>\n",
       "      <td>NaN</td>\n",
       "      <td>NaN</td>\n",
       "      <td>NaN</td>\n",
       "      <td>NaN</td>\n",
       "      <td>NaN</td>\n",
       "      <td>NaN</td>\n",
       "      <td>NaN</td>\n",
       "    </tr>\n",
       "    <tr>\n",
       "      <td>4</td>\n",
       "      <td>Tue Feb 09 04:21:04 +0000 2021</td>\n",
       "      <td>1358994298201464834</td>\n",
       "      <td>1358994298201464834</td>\n",
       "      <td>RT @Chellaney: On Jan. 15, a US state departme...</td>\n",
       "      <td>False</td>\n",
       "      <td>&lt;a href=\"http://twitter.com/download/android\" ...</td>\n",
       "      <td>NaN</td>\n",
       "      <td>None</td>\n",
       "      <td>NaN</td>\n",
       "      <td>None</td>\n",
       "      <td>...</td>\n",
       "      <td>NaN</td>\n",
       "      <td>NaN</td>\n",
       "      <td>NaN</td>\n",
       "      <td>NaN</td>\n",
       "      <td>NaN</td>\n",
       "      <td>NaN</td>\n",
       "      <td>NaN</td>\n",
       "      <td>NaN</td>\n",
       "      <td>NaN</td>\n",
       "      <td>NaN</td>\n",
       "    </tr>\n",
       "  </tbody>\n",
       "</table>\n",
       "<p>5 rows × 329 columns</p>\n",
       "</div>"
      ],
      "text/plain": [
       "                       created_at                   id               id_str  \\\n",
       "0  Sun Feb 07 16:48:51 +0000 2021  1358457707632631808  1358457707632631808   \n",
       "1  Mon Feb 08 16:59:50 +0000 2021  1358822859947208704  1358822859947208704   \n",
       "2  Mon Feb 08 16:48:22 +0000 2021  1358819976388485122  1358819976388485122   \n",
       "3  Tue Feb 09 04:21:04 +0000 2021  1358994298226761731  1358994298226761731   \n",
       "4  Tue Feb 09 04:21:04 +0000 2021  1358994298201464834  1358994298201464834   \n",
       "\n",
       "                                                text  truncated  \\\n",
       "0  it’s so annoying to me that covid made it so i...       True   \n",
       "1  How covid started vs. how covid’s going https:...      False   \n",
       "2  It’s official. If you’ve lost a loved one due ...       True   \n",
       "3  RT @ScottageeCheese: Dubs in Verdansk while ha...      False   \n",
       "4  RT @Chellaney: On Jan. 15, a US state departme...      False   \n",
       "\n",
       "                                              source  in_reply_to_status_id  \\\n",
       "0  <a href=\"http://twitter.com/download/iphone\" r...                    NaN   \n",
       "1  <a href=\"http://twitter.com/download/iphone\" r...                    NaN   \n",
       "2  <a href=\"http://twitter.com/download/iphone\" r...                    NaN   \n",
       "3  <a href=\"https://twitchsupports.glitch.me/\" re...                    NaN   \n",
       "4  <a href=\"http://twitter.com/download/android\" ...                    NaN   \n",
       "\n",
       "  in_reply_to_status_id_str  in_reply_to_user_id in_reply_to_user_id_str  ...  \\\n",
       "0                      None                  NaN                    None  ...   \n",
       "1                      None                  NaN                    None  ...   \n",
       "2                      None                  NaN                    None  ...   \n",
       "3                      None                  NaN                    None  ...   \n",
       "4                      None                  NaN                    None  ...   \n",
       "\n",
       "  geo.coordinates  coordinates.type  coordinates.coordinates  \\\n",
       "0             NaN               NaN                      NaN   \n",
       "1             NaN               NaN                      NaN   \n",
       "2             NaN               NaN                      NaN   \n",
       "3             NaN               NaN                      NaN   \n",
       "4             NaN               NaN                      NaN   \n",
       "\n",
       "   retweeted_status.geo.type retweeted_status.geo.coordinates  \\\n",
       "0                        NaN                              NaN   \n",
       "1                        NaN                              NaN   \n",
       "2                        NaN                              NaN   \n",
       "3                        NaN                              NaN   \n",
       "4                        NaN                              NaN   \n",
       "\n",
       "   retweeted_status.coordinates.type  \\\n",
       "0                                NaN   \n",
       "1                                NaN   \n",
       "2                                NaN   \n",
       "3                                NaN   \n",
       "4                                NaN   \n",
       "\n",
       "   retweeted_status.coordinates.coordinates  withheld_in_countries  \\\n",
       "0                                       NaN                    NaN   \n",
       "1                                       NaN                    NaN   \n",
       "2                                       NaN                    NaN   \n",
       "3                                       NaN                    NaN   \n",
       "4                                       NaN                    NaN   \n",
       "\n",
       "   retweeted_status.user.withheld_in_countries  \\\n",
       "0                                          NaN   \n",
       "1                                          NaN   \n",
       "2                                          NaN   \n",
       "3                                          NaN   \n",
       "4                                          NaN   \n",
       "\n",
       "   retweeted_status.withheld_in_countries  \n",
       "0                                     NaN  \n",
       "1                                     NaN  \n",
       "2                                     NaN  \n",
       "3                                     NaN  \n",
       "4                                     NaN  \n",
       "\n",
       "[5 rows x 329 columns]"
      ]
     },
     "execution_count": 28,
     "metadata": {},
     "output_type": "execute_result"
    }
   ],
   "source": [
    "df.head()"
   ]
  },
  {
   "cell_type": "markdown",
   "metadata": {},
   "source": [
    "Now let us drop the 'id_str' column since that does not make any sense in our project and let us also set 'id' column as the index since each tweet has its own unique id"
   ]
  },
  {
   "cell_type": "code",
   "execution_count": 29,
   "metadata": {},
   "outputs": [],
   "source": [
    "df.set_index('id',drop=True,inplace=True)\n",
    "df.drop('id_str',axis=1,inplace=True)"
   ]
  },
  {
   "cell_type": "code",
   "execution_count": 30,
   "metadata": {},
   "outputs": [
    {
     "data": {
      "text/html": [
       "<div>\n",
       "<style scoped>\n",
       "    .dataframe tbody tr th:only-of-type {\n",
       "        vertical-align: middle;\n",
       "    }\n",
       "\n",
       "    .dataframe tbody tr th {\n",
       "        vertical-align: top;\n",
       "    }\n",
       "\n",
       "    .dataframe thead th {\n",
       "        text-align: right;\n",
       "    }\n",
       "</style>\n",
       "<table border=\"1\" class=\"dataframe\">\n",
       "  <thead>\n",
       "    <tr style=\"text-align: right;\">\n",
       "      <th></th>\n",
       "      <th>created_at</th>\n",
       "      <th>text</th>\n",
       "      <th>truncated</th>\n",
       "      <th>source</th>\n",
       "      <th>in_reply_to_status_id</th>\n",
       "      <th>in_reply_to_status_id_str</th>\n",
       "      <th>in_reply_to_user_id</th>\n",
       "      <th>in_reply_to_user_id_str</th>\n",
       "      <th>in_reply_to_screen_name</th>\n",
       "      <th>geo</th>\n",
       "      <th>...</th>\n",
       "      <th>geo.coordinates</th>\n",
       "      <th>coordinates.type</th>\n",
       "      <th>coordinates.coordinates</th>\n",
       "      <th>retweeted_status.geo.type</th>\n",
       "      <th>retweeted_status.geo.coordinates</th>\n",
       "      <th>retweeted_status.coordinates.type</th>\n",
       "      <th>retweeted_status.coordinates.coordinates</th>\n",
       "      <th>withheld_in_countries</th>\n",
       "      <th>retweeted_status.user.withheld_in_countries</th>\n",
       "      <th>retweeted_status.withheld_in_countries</th>\n",
       "    </tr>\n",
       "    <tr>\n",
       "      <th>id</th>\n",
       "      <th></th>\n",
       "      <th></th>\n",
       "      <th></th>\n",
       "      <th></th>\n",
       "      <th></th>\n",
       "      <th></th>\n",
       "      <th></th>\n",
       "      <th></th>\n",
       "      <th></th>\n",
       "      <th></th>\n",
       "      <th></th>\n",
       "      <th></th>\n",
       "      <th></th>\n",
       "      <th></th>\n",
       "      <th></th>\n",
       "      <th></th>\n",
       "      <th></th>\n",
       "      <th></th>\n",
       "      <th></th>\n",
       "      <th></th>\n",
       "      <th></th>\n",
       "    </tr>\n",
       "  </thead>\n",
       "  <tbody>\n",
       "    <tr>\n",
       "      <td>1358457707632631808</td>\n",
       "      <td>Sun Feb 07 16:48:51 +0000 2021</td>\n",
       "      <td>it’s so annoying to me that covid made it so i...</td>\n",
       "      <td>True</td>\n",
       "      <td>&lt;a href=\"http://twitter.com/download/iphone\" r...</td>\n",
       "      <td>NaN</td>\n",
       "      <td>None</td>\n",
       "      <td>NaN</td>\n",
       "      <td>None</td>\n",
       "      <td>None</td>\n",
       "      <td>NaN</td>\n",
       "      <td>...</td>\n",
       "      <td>NaN</td>\n",
       "      <td>NaN</td>\n",
       "      <td>NaN</td>\n",
       "      <td>NaN</td>\n",
       "      <td>NaN</td>\n",
       "      <td>NaN</td>\n",
       "      <td>NaN</td>\n",
       "      <td>NaN</td>\n",
       "      <td>NaN</td>\n",
       "      <td>NaN</td>\n",
       "    </tr>\n",
       "    <tr>\n",
       "      <td>1358822859947208704</td>\n",
       "      <td>Mon Feb 08 16:59:50 +0000 2021</td>\n",
       "      <td>How covid started vs. how covid’s going https:...</td>\n",
       "      <td>False</td>\n",
       "      <td>&lt;a href=\"http://twitter.com/download/iphone\" r...</td>\n",
       "      <td>NaN</td>\n",
       "      <td>None</td>\n",
       "      <td>NaN</td>\n",
       "      <td>None</td>\n",
       "      <td>None</td>\n",
       "      <td>NaN</td>\n",
       "      <td>...</td>\n",
       "      <td>NaN</td>\n",
       "      <td>NaN</td>\n",
       "      <td>NaN</td>\n",
       "      <td>NaN</td>\n",
       "      <td>NaN</td>\n",
       "      <td>NaN</td>\n",
       "      <td>NaN</td>\n",
       "      <td>NaN</td>\n",
       "      <td>NaN</td>\n",
       "      <td>NaN</td>\n",
       "    </tr>\n",
       "    <tr>\n",
       "      <td>1358819976388485122</td>\n",
       "      <td>Mon Feb 08 16:48:22 +0000 2021</td>\n",
       "      <td>It’s official. If you’ve lost a loved one due ...</td>\n",
       "      <td>True</td>\n",
       "      <td>&lt;a href=\"http://twitter.com/download/iphone\" r...</td>\n",
       "      <td>NaN</td>\n",
       "      <td>None</td>\n",
       "      <td>NaN</td>\n",
       "      <td>None</td>\n",
       "      <td>None</td>\n",
       "      <td>NaN</td>\n",
       "      <td>...</td>\n",
       "      <td>NaN</td>\n",
       "      <td>NaN</td>\n",
       "      <td>NaN</td>\n",
       "      <td>NaN</td>\n",
       "      <td>NaN</td>\n",
       "      <td>NaN</td>\n",
       "      <td>NaN</td>\n",
       "      <td>NaN</td>\n",
       "      <td>NaN</td>\n",
       "      <td>NaN</td>\n",
       "    </tr>\n",
       "    <tr>\n",
       "      <td>1358994298226761731</td>\n",
       "      <td>Tue Feb 09 04:21:04 +0000 2021</td>\n",
       "      <td>RT @ScottageeCheese: Dubs in Verdansk while ha...</td>\n",
       "      <td>False</td>\n",
       "      <td>&lt;a href=\"https://twitchsupports.glitch.me/\" re...</td>\n",
       "      <td>NaN</td>\n",
       "      <td>None</td>\n",
       "      <td>NaN</td>\n",
       "      <td>None</td>\n",
       "      <td>None</td>\n",
       "      <td>NaN</td>\n",
       "      <td>...</td>\n",
       "      <td>NaN</td>\n",
       "      <td>NaN</td>\n",
       "      <td>NaN</td>\n",
       "      <td>NaN</td>\n",
       "      <td>NaN</td>\n",
       "      <td>NaN</td>\n",
       "      <td>NaN</td>\n",
       "      <td>NaN</td>\n",
       "      <td>NaN</td>\n",
       "      <td>NaN</td>\n",
       "    </tr>\n",
       "    <tr>\n",
       "      <td>1358994298201464834</td>\n",
       "      <td>Tue Feb 09 04:21:04 +0000 2021</td>\n",
       "      <td>RT @Chellaney: On Jan. 15, a US state departme...</td>\n",
       "      <td>False</td>\n",
       "      <td>&lt;a href=\"http://twitter.com/download/android\" ...</td>\n",
       "      <td>NaN</td>\n",
       "      <td>None</td>\n",
       "      <td>NaN</td>\n",
       "      <td>None</td>\n",
       "      <td>None</td>\n",
       "      <td>NaN</td>\n",
       "      <td>...</td>\n",
       "      <td>NaN</td>\n",
       "      <td>NaN</td>\n",
       "      <td>NaN</td>\n",
       "      <td>NaN</td>\n",
       "      <td>NaN</td>\n",
       "      <td>NaN</td>\n",
       "      <td>NaN</td>\n",
       "      <td>NaN</td>\n",
       "      <td>NaN</td>\n",
       "      <td>NaN</td>\n",
       "    </tr>\n",
       "  </tbody>\n",
       "</table>\n",
       "<p>5 rows × 327 columns</p>\n",
       "</div>"
      ],
      "text/plain": [
       "                                         created_at  \\\n",
       "id                                                    \n",
       "1358457707632631808  Sun Feb 07 16:48:51 +0000 2021   \n",
       "1358822859947208704  Mon Feb 08 16:59:50 +0000 2021   \n",
       "1358819976388485122  Mon Feb 08 16:48:22 +0000 2021   \n",
       "1358994298226761731  Tue Feb 09 04:21:04 +0000 2021   \n",
       "1358994298201464834  Tue Feb 09 04:21:04 +0000 2021   \n",
       "\n",
       "                                                                  text  \\\n",
       "id                                                                       \n",
       "1358457707632631808  it’s so annoying to me that covid made it so i...   \n",
       "1358822859947208704  How covid started vs. how covid’s going https:...   \n",
       "1358819976388485122  It’s official. If you’ve lost a loved one due ...   \n",
       "1358994298226761731  RT @ScottageeCheese: Dubs in Verdansk while ha...   \n",
       "1358994298201464834  RT @Chellaney: On Jan. 15, a US state departme...   \n",
       "\n",
       "                     truncated  \\\n",
       "id                               \n",
       "1358457707632631808       True   \n",
       "1358822859947208704      False   \n",
       "1358819976388485122       True   \n",
       "1358994298226761731      False   \n",
       "1358994298201464834      False   \n",
       "\n",
       "                                                                source  \\\n",
       "id                                                                       \n",
       "1358457707632631808  <a href=\"http://twitter.com/download/iphone\" r...   \n",
       "1358822859947208704  <a href=\"http://twitter.com/download/iphone\" r...   \n",
       "1358819976388485122  <a href=\"http://twitter.com/download/iphone\" r...   \n",
       "1358994298226761731  <a href=\"https://twitchsupports.glitch.me/\" re...   \n",
       "1358994298201464834  <a href=\"http://twitter.com/download/android\" ...   \n",
       "\n",
       "                     in_reply_to_status_id in_reply_to_status_id_str  \\\n",
       "id                                                                     \n",
       "1358457707632631808                    NaN                      None   \n",
       "1358822859947208704                    NaN                      None   \n",
       "1358819976388485122                    NaN                      None   \n",
       "1358994298226761731                    NaN                      None   \n",
       "1358994298201464834                    NaN                      None   \n",
       "\n",
       "                     in_reply_to_user_id in_reply_to_user_id_str  \\\n",
       "id                                                                 \n",
       "1358457707632631808                  NaN                    None   \n",
       "1358822859947208704                  NaN                    None   \n",
       "1358819976388485122                  NaN                    None   \n",
       "1358994298226761731                  NaN                    None   \n",
       "1358994298201464834                  NaN                    None   \n",
       "\n",
       "                    in_reply_to_screen_name  geo  ...  geo.coordinates  \\\n",
       "id                                                ...                    \n",
       "1358457707632631808                    None  NaN  ...              NaN   \n",
       "1358822859947208704                    None  NaN  ...              NaN   \n",
       "1358819976388485122                    None  NaN  ...              NaN   \n",
       "1358994298226761731                    None  NaN  ...              NaN   \n",
       "1358994298201464834                    None  NaN  ...              NaN   \n",
       "\n",
       "                     coordinates.type coordinates.coordinates  \\\n",
       "id                                                              \n",
       "1358457707632631808               NaN                     NaN   \n",
       "1358822859947208704               NaN                     NaN   \n",
       "1358819976388485122               NaN                     NaN   \n",
       "1358994298226761731               NaN                     NaN   \n",
       "1358994298201464834               NaN                     NaN   \n",
       "\n",
       "                     retweeted_status.geo.type  \\\n",
       "id                                               \n",
       "1358457707632631808                        NaN   \n",
       "1358822859947208704                        NaN   \n",
       "1358819976388485122                        NaN   \n",
       "1358994298226761731                        NaN   \n",
       "1358994298201464834                        NaN   \n",
       "\n",
       "                     retweeted_status.geo.coordinates  \\\n",
       "id                                                      \n",
       "1358457707632631808                               NaN   \n",
       "1358822859947208704                               NaN   \n",
       "1358819976388485122                               NaN   \n",
       "1358994298226761731                               NaN   \n",
       "1358994298201464834                               NaN   \n",
       "\n",
       "                     retweeted_status.coordinates.type  \\\n",
       "id                                                       \n",
       "1358457707632631808                                NaN   \n",
       "1358822859947208704                                NaN   \n",
       "1358819976388485122                                NaN   \n",
       "1358994298226761731                                NaN   \n",
       "1358994298201464834                                NaN   \n",
       "\n",
       "                     retweeted_status.coordinates.coordinates  \\\n",
       "id                                                              \n",
       "1358457707632631808                                       NaN   \n",
       "1358822859947208704                                       NaN   \n",
       "1358819976388485122                                       NaN   \n",
       "1358994298226761731                                       NaN   \n",
       "1358994298201464834                                       NaN   \n",
       "\n",
       "                     withheld_in_countries  \\\n",
       "id                                           \n",
       "1358457707632631808                    NaN   \n",
       "1358822859947208704                    NaN   \n",
       "1358819976388485122                    NaN   \n",
       "1358994298226761731                    NaN   \n",
       "1358994298201464834                    NaN   \n",
       "\n",
       "                    retweeted_status.user.withheld_in_countries  \\\n",
       "id                                                                \n",
       "1358457707632631808                                         NaN   \n",
       "1358822859947208704                                         NaN   \n",
       "1358819976388485122                                         NaN   \n",
       "1358994298226761731                                         NaN   \n",
       "1358994298201464834                                         NaN   \n",
       "\n",
       "                    retweeted_status.withheld_in_countries  \n",
       "id                                                          \n",
       "1358457707632631808                                    NaN  \n",
       "1358822859947208704                                    NaN  \n",
       "1358819976388485122                                    NaN  \n",
       "1358994298226761731                                    NaN  \n",
       "1358994298201464834                                    NaN  \n",
       "\n",
       "[5 rows x 327 columns]"
      ]
     },
     "execution_count": 30,
     "metadata": {},
     "output_type": "execute_result"
    }
   ],
   "source": [
    "df.head()"
   ]
  },
  {
   "cell_type": "code",
   "execution_count": 31,
   "metadata": {},
   "outputs": [
    {
     "data": {
      "text/html": [
       "<div>\n",
       "<style scoped>\n",
       "    .dataframe tbody tr th:only-of-type {\n",
       "        vertical-align: middle;\n",
       "    }\n",
       "\n",
       "    .dataframe tbody tr th {\n",
       "        vertical-align: top;\n",
       "    }\n",
       "\n",
       "    .dataframe thead th {\n",
       "        text-align: right;\n",
       "    }\n",
       "</style>\n",
       "<table border=\"1\" class=\"dataframe\">\n",
       "  <thead>\n",
       "    <tr style=\"text-align: right;\">\n",
       "      <th></th>\n",
       "      <th>created_at</th>\n",
       "      <th>user.screen_name</th>\n",
       "      <th>text</th>\n",
       "    </tr>\n",
       "    <tr>\n",
       "      <th>id</th>\n",
       "      <th></th>\n",
       "      <th></th>\n",
       "      <th></th>\n",
       "    </tr>\n",
       "  </thead>\n",
       "  <tbody>\n",
       "    <tr>\n",
       "      <td>1358457707632631808</td>\n",
       "      <td>Sun Feb 07 16:48:51 +0000 2021</td>\n",
       "      <td>danadonly</td>\n",
       "      <td>it’s so annoying to me that covid made it so i...</td>\n",
       "    </tr>\n",
       "    <tr>\n",
       "      <td>1358822859947208704</td>\n",
       "      <td>Mon Feb 08 16:59:50 +0000 2021</td>\n",
       "      <td>EricHaywood</td>\n",
       "      <td>How covid started vs. how covid’s going https:...</td>\n",
       "    </tr>\n",
       "    <tr>\n",
       "      <td>1358819976388485122</td>\n",
       "      <td>Mon Feb 08 16:48:22 +0000 2021</td>\n",
       "      <td>AOC</td>\n",
       "      <td>It’s official. If you’ve lost a loved one due ...</td>\n",
       "    </tr>\n",
       "    <tr>\n",
       "      <td>1358994298226761731</td>\n",
       "      <td>Tue Feb 09 04:21:04 +0000 2021</td>\n",
       "      <td>SupporterBotTV</td>\n",
       "      <td>RT @ScottageeCheese: Dubs in Verdansk while ha...</td>\n",
       "    </tr>\n",
       "    <tr>\n",
       "      <td>1358994298201464834</td>\n",
       "      <td>Tue Feb 09 04:21:04 +0000 2021</td>\n",
       "      <td>vikrameffects</td>\n",
       "      <td>RT @Chellaney: On Jan. 15, a US state departme...</td>\n",
       "    </tr>\n",
       "  </tbody>\n",
       "</table>\n",
       "</div>"
      ],
      "text/plain": [
       "                                         created_at user.screen_name  \\\n",
       "id                                                                     \n",
       "1358457707632631808  Sun Feb 07 16:48:51 +0000 2021        danadonly   \n",
       "1358822859947208704  Mon Feb 08 16:59:50 +0000 2021      EricHaywood   \n",
       "1358819976388485122  Mon Feb 08 16:48:22 +0000 2021              AOC   \n",
       "1358994298226761731  Tue Feb 09 04:21:04 +0000 2021   SupporterBotTV   \n",
       "1358994298201464834  Tue Feb 09 04:21:04 +0000 2021    vikrameffects   \n",
       "\n",
       "                                                                  text  \n",
       "id                                                                      \n",
       "1358457707632631808  it’s so annoying to me that covid made it so i...  \n",
       "1358822859947208704  How covid started vs. how covid’s going https:...  \n",
       "1358819976388485122  It’s official. If you’ve lost a loved one due ...  \n",
       "1358994298226761731  RT @ScottageeCheese: Dubs in Verdansk while ha...  \n",
       "1358994298201464834  RT @Chellaney: On Jan. 15, a US state departme...  "
      ]
     },
     "execution_count": 31,
     "metadata": {},
     "output_type": "execute_result"
    }
   ],
   "source": [
    "df[['created_at', 'user.screen_name', 'text']].head()"
   ]
  },
  {
   "cell_type": "code",
   "execution_count": 32,
   "metadata": {},
   "outputs": [
    {
     "data": {
      "text/plain": [
       "(15300, 327)"
      ]
     },
     "execution_count": 32,
     "metadata": {},
     "output_type": "execute_result"
    }
   ],
   "source": [
    "df.shape"
   ]
  },
  {
   "cell_type": "markdown",
   "metadata": {},
   "source": [
    "## Processing the tweets"
   ]
  },
  {
   "cell_type": "code",
   "execution_count": 33,
   "metadata": {},
   "outputs": [
    {
     "data": {
      "text/plain": [
       "id\n",
       "1358457707632631808    it’s so annoying to me that covid made it so i...\n",
       "1358822859947208704    How covid started vs. how covid’s going https:...\n",
       "1358819976388485122    It’s official. If you’ve lost a loved one due ...\n",
       "1358994298226761731    RT @ScottageeCheese: Dubs in Verdansk while ha...\n",
       "1358994298201464834    RT @Chellaney: On Jan. 15, a US state departme...\n",
       "1358994298017116162    @clairecm @sheeraf Depends on your risk tolera...\n",
       "1358994297710870530    RT @CPC_HQ: Canada needs a successful vaccine ...\n",
       "1358994297044029440    RT @DianeMariePosts: The Conservatives’ idea o...\n",
       "1358994297043910666    RT @KreekCraft: Let’s talk about the COVID vac...\n",
       "1358994296830119938    RT @FirstGentleman: I am very happy that I hav...\n",
       "Name: text, dtype: object"
      ]
     },
     "execution_count": 33,
     "metadata": {},
     "output_type": "execute_result"
    }
   ],
   "source": [
    "df['text'].head(n=10)"
   ]
  },
  {
   "cell_type": "markdown",
   "metadata": {},
   "source": [
    "Here, we are trying to remove the stopwords from the tweets. Stop words are basically a set of commonly used words in any language, not just English. The reason why stop words are critical to many applications is that, if we remove the words that are very commonly used in a given language, we can focus on the important words instead. "
   ]
  },
  {
   "cell_type": "code",
   "execution_count": 34,
   "metadata": {},
   "outputs": [],
   "source": [
    "from nltk.corpus import stopwords"
   ]
  },
  {
   "cell_type": "code",
   "execution_count": 35,
   "metadata": {},
   "outputs": [],
   "source": [
    "additional  = ['rt','rts','retweet'] # we can store additional stopwords here\n",
    "swords = set().union(stopwords.words('english'),additional) "
   ]
  },
  {
   "cell_type": "markdown",
   "metadata": {},
   "source": [
    "Here are the list of words that are considered as stopwords in the nltk package"
   ]
  },
  {
   "cell_type": "code",
   "execution_count": 36,
   "metadata": {},
   "outputs": [
    {
     "data": {
      "text/plain": [
       "{'a',\n",
       " 'about',\n",
       " 'above',\n",
       " 'after',\n",
       " 'again',\n",
       " 'against',\n",
       " 'ain',\n",
       " 'all',\n",
       " 'am',\n",
       " 'an',\n",
       " 'and',\n",
       " 'any',\n",
       " 'are',\n",
       " 'aren',\n",
       " \"aren't\",\n",
       " 'as',\n",
       " 'at',\n",
       " 'be',\n",
       " 'because',\n",
       " 'been',\n",
       " 'before',\n",
       " 'being',\n",
       " 'below',\n",
       " 'between',\n",
       " 'both',\n",
       " 'but',\n",
       " 'by',\n",
       " 'can',\n",
       " 'couldn',\n",
       " \"couldn't\",\n",
       " 'd',\n",
       " 'did',\n",
       " 'didn',\n",
       " \"didn't\",\n",
       " 'do',\n",
       " 'does',\n",
       " 'doesn',\n",
       " \"doesn't\",\n",
       " 'doing',\n",
       " 'don',\n",
       " \"don't\",\n",
       " 'down',\n",
       " 'during',\n",
       " 'each',\n",
       " 'few',\n",
       " 'for',\n",
       " 'from',\n",
       " 'further',\n",
       " 'had',\n",
       " 'hadn',\n",
       " \"hadn't\",\n",
       " 'has',\n",
       " 'hasn',\n",
       " \"hasn't\",\n",
       " 'have',\n",
       " 'haven',\n",
       " \"haven't\",\n",
       " 'having',\n",
       " 'he',\n",
       " 'her',\n",
       " 'here',\n",
       " 'hers',\n",
       " 'herself',\n",
       " 'him',\n",
       " 'himself',\n",
       " 'his',\n",
       " 'how',\n",
       " 'i',\n",
       " 'if',\n",
       " 'in',\n",
       " 'into',\n",
       " 'is',\n",
       " 'isn',\n",
       " \"isn't\",\n",
       " 'it',\n",
       " \"it's\",\n",
       " 'its',\n",
       " 'itself',\n",
       " 'just',\n",
       " 'll',\n",
       " 'm',\n",
       " 'ma',\n",
       " 'me',\n",
       " 'mightn',\n",
       " \"mightn't\",\n",
       " 'more',\n",
       " 'most',\n",
       " 'mustn',\n",
       " \"mustn't\",\n",
       " 'my',\n",
       " 'myself',\n",
       " 'needn',\n",
       " \"needn't\",\n",
       " 'no',\n",
       " 'nor',\n",
       " 'not',\n",
       " 'now',\n",
       " 'o',\n",
       " 'of',\n",
       " 'off',\n",
       " 'on',\n",
       " 'once',\n",
       " 'only',\n",
       " 'or',\n",
       " 'other',\n",
       " 'our',\n",
       " 'ours',\n",
       " 'ourselves',\n",
       " 'out',\n",
       " 'over',\n",
       " 'own',\n",
       " 're',\n",
       " 'retweet',\n",
       " 'rt',\n",
       " 'rts',\n",
       " 's',\n",
       " 'same',\n",
       " 'shan',\n",
       " \"shan't\",\n",
       " 'she',\n",
       " \"she's\",\n",
       " 'should',\n",
       " \"should've\",\n",
       " 'shouldn',\n",
       " \"shouldn't\",\n",
       " 'so',\n",
       " 'some',\n",
       " 'such',\n",
       " 't',\n",
       " 'than',\n",
       " 'that',\n",
       " \"that'll\",\n",
       " 'the',\n",
       " 'their',\n",
       " 'theirs',\n",
       " 'them',\n",
       " 'themselves',\n",
       " 'then',\n",
       " 'there',\n",
       " 'these',\n",
       " 'they',\n",
       " 'this',\n",
       " 'those',\n",
       " 'through',\n",
       " 'to',\n",
       " 'too',\n",
       " 'under',\n",
       " 'until',\n",
       " 'up',\n",
       " 've',\n",
       " 'very',\n",
       " 'was',\n",
       " 'wasn',\n",
       " \"wasn't\",\n",
       " 'we',\n",
       " 'were',\n",
       " 'weren',\n",
       " \"weren't\",\n",
       " 'what',\n",
       " 'when',\n",
       " 'where',\n",
       " 'which',\n",
       " 'while',\n",
       " 'who',\n",
       " 'whom',\n",
       " 'why',\n",
       " 'will',\n",
       " 'with',\n",
       " 'won',\n",
       " \"won't\",\n",
       " 'wouldn',\n",
       " \"wouldn't\",\n",
       " 'y',\n",
       " 'you',\n",
       " \"you'd\",\n",
       " \"you'll\",\n",
       " \"you're\",\n",
       " \"you've\",\n",
       " 'your',\n",
       " 'yours',\n",
       " 'yourself',\n",
       " 'yourselves'}"
      ]
     },
     "execution_count": 36,
     "metadata": {},
     "output_type": "execute_result"
    }
   ],
   "source": [
    "swords"
   ]
  },
  {
   "cell_type": "markdown",
   "metadata": {},
   "source": [
    "Let us remove the duplicate tweets also"
   ]
  },
  {
   "cell_type": "code",
   "execution_count": 37,
   "metadata": {},
   "outputs": [],
   "source": [
    "df.drop_duplicates(subset='text',inplace=True)"
   ]
  },
  {
   "cell_type": "markdown",
   "metadata": {},
   "source": [
    "After removing the duplicates we have these many tweets left with us"
   ]
  },
  {
   "cell_type": "code",
   "execution_count": 38,
   "metadata": {
    "scrolled": false
   },
   "outputs": [
    {
     "data": {
      "text/plain": [
       "(7665, 327)"
      ]
     },
     "execution_count": 38,
     "metadata": {},
     "output_type": "execute_result"
    }
   ],
   "source": [
    "df.shape"
   ]
  },
  {
   "cell_type": "markdown",
   "metadata": {},
   "source": [
    "Let us also remove special characters, numbers and links"
   ]
  },
  {
   "cell_type": "code",
   "execution_count": 39,
   "metadata": {},
   "outputs": [],
   "source": [
    "df['processed_text'] = df['text'].str.lower()\\\n",
    "          .str.replace('(@[a-z0-9]+)\\w+',' ')\\\n",
    "          .str.replace('(http\\S+)', ' ')\\\n",
    "          .str.replace('([^0-9a-z \\t])',' ')\\\n",
    "          .str.replace(' +',' ')\\\n",
    "          .apply(lambda x: [i for i in x.split() if not i in swords])"
   ]
  },
  {
   "cell_type": "code",
   "execution_count": 40,
   "metadata": {
    "scrolled": true
   },
   "outputs": [
    {
     "data": {
      "text/plain": [
       "id\n",
       "1358457707632631808    [annoying, covid, made, drink, wine, w, 5, fri...\n",
       "1358822859947208704                   [covid, started, vs, covid, going]\n",
       "1358819976388485122    [official, lost, loved, one, due, covid, 19, s...\n",
       "1358994298226761731    [dubs, verdansk, covid, facecam, road, affiliate]\n",
       "1358994298201464834    [jan, 15, us, state, department, fact, sheet, ...\n",
       "1358994298017116162    [depends, risk, tolerance, vaccinated, adults,...\n",
       "1358994297710870530    [canada, needs, successful, vaccine, rollout, ...\n",
       "1358994297044029440    [conservatives, idea, covid, transparency, inv...\n",
       "1358994297043910666    [let, talk, covid, vaccine, 11, pm, night, kre...\n",
       "1358994296830119938    [happy, successfully, managed, avoid, covid, y...\n",
       "Name: processed_text, dtype: object"
      ]
     },
     "execution_count": 40,
     "metadata": {},
     "output_type": "execute_result"
    }
   ],
   "source": [
    "df['processed_text'].head(n=10)"
   ]
  },
  {
   "cell_type": "markdown",
   "metadata": {},
   "source": [
    "Here, we are stemming the data. Stemming is the process of producing morphological variants of a root/base word.  For example, a stemming algorithm reduces the words “chocolates”, “chocolatey”, “choco” to the root word, “chocolate” "
   ]
  },
  {
   "cell_type": "code",
   "execution_count": 41,
   "metadata": {},
   "outputs": [],
   "source": [
    "from nltk.stem import PorterStemmer\n",
    "ps = PorterStemmer()"
   ]
  },
  {
   "cell_type": "code",
   "execution_count": 42,
   "metadata": {},
   "outputs": [],
   "source": [
    "df['stemmed'] = df['processed_text'].apply(lambda x: [ps.stem(i) for i in x if i != ''])"
   ]
  },
  {
   "cell_type": "code",
   "execution_count": 43,
   "metadata": {},
   "outputs": [
    {
     "data": {
      "text/plain": [
       "id\n",
       "1358457707632631808    [annoy, covid, made, drink, wine, w, 5, friend...\n",
       "1358822859947208704                        [covid, start, vs, covid, go]\n",
       "1358819976388485122    [offici, lost, love, one, due, covid, 19, soon...\n",
       "1358994298226761731        [dub, verdansk, covid, facecam, road, affili]\n",
       "1358994298201464834    [jan, 15, us, state, depart, fact, sheet, disc...\n",
       "1358994298017116162    [depend, risk, toler, vaccin, adult, still, ca...\n",
       "1358994297710870530    [canada, need, success, vaccin, rollout, move,...\n",
       "1358994297044029440    [conserv, idea, covid, transpar, involv, breac...\n",
       "1358994297043910666    [let, talk, covid, vaccin, 11, pm, night, kree...\n",
       "1358994296830119938    [happi, success, manag, avoid, covid, year, al...\n",
       "Name: stemmed, dtype: object"
      ]
     },
     "execution_count": 43,
     "metadata": {},
     "output_type": "execute_result"
    }
   ],
   "source": [
    "df['stemmed'].head(n=10)"
   ]
  },
  {
   "cell_type": "markdown",
   "metadata": {},
   "source": [
    "### Sentiment Analysis"
   ]
  },
  {
   "cell_type": "markdown",
   "metadata": {},
   "source": [
    "In this section let us try to figure out the sentiment reflected in each tweet. For this purpose we use a class called vader from nltk.sentiment which helps us find the sentiment. The more negative the value is, the more negative is the sentiment and vice versa"
   ]
  },
  {
   "cell_type": "code",
   "execution_count": 44,
   "metadata": {},
   "outputs": [
    {
     "name": "stderr",
     "output_type": "stream",
     "text": [
      "[nltk_data] Downloading package vader_lexicon to\n",
      "[nltk_data]     C:\\Users\\Lenovo\\AppData\\Roaming\\nltk_data...\n",
      "[nltk_data]   Package vader_lexicon is already up-to-date!\n"
     ]
    },
    {
     "data": {
      "text/plain": [
       "True"
      ]
     },
     "execution_count": 44,
     "metadata": {},
     "output_type": "execute_result"
    }
   ],
   "source": [
    "import nltk.sentiment.vader as vd\n",
    "from nltk import download\n",
    "download('vader_lexicon')"
   ]
  },
  {
   "cell_type": "code",
   "execution_count": 45,
   "metadata": {},
   "outputs": [],
   "source": [
    "sia = vd.SentimentIntensityAnalyzer()"
   ]
  },
  {
   "cell_type": "code",
   "execution_count": 46,
   "metadata": {},
   "outputs": [
    {
     "name": "stderr",
     "output_type": "stream",
     "text": [
      "[nltk_data] Downloading package punkt to\n",
      "[nltk_data]     C:\\Users\\Lenovo\\AppData\\Roaming\\nltk_data...\n",
      "[nltk_data]   Package punkt is already up-to-date!\n"
     ]
    },
    {
     "data": {
      "text/plain": [
       "True"
      ]
     },
     "execution_count": 46,
     "metadata": {},
     "output_type": "execute_result"
    }
   ],
   "source": [
    "from nltk.tokenize import word_tokenize\n",
    "import nltk\n",
    "nltk.download('punkt')"
   ]
  },
  {
   "cell_type": "code",
   "execution_count": 47,
   "metadata": {},
   "outputs": [],
   "source": [
    "df['sentiment_score'] = df['processed_text'].apply(lambda x: sum([sia.polarity_scores(i)['compound'] for i in word_tokenize( ' '.join(x) )]) )"
   ]
  },
  {
   "cell_type": "code",
   "execution_count": 48,
   "metadata": {},
   "outputs": [
    {
     "data": {
      "text/html": [
       "<div>\n",
       "<style scoped>\n",
       "    .dataframe tbody tr th:only-of-type {\n",
       "        vertical-align: middle;\n",
       "    }\n",
       "\n",
       "    .dataframe tbody tr th {\n",
       "        vertical-align: top;\n",
       "    }\n",
       "\n",
       "    .dataframe thead th {\n",
       "        text-align: right;\n",
       "    }\n",
       "</style>\n",
       "<table border=\"1\" class=\"dataframe\">\n",
       "  <thead>\n",
       "    <tr style=\"text-align: right;\">\n",
       "      <th></th>\n",
       "      <th>processed_text</th>\n",
       "      <th>sentiment_score</th>\n",
       "    </tr>\n",
       "    <tr>\n",
       "      <th>id</th>\n",
       "      <th></th>\n",
       "      <th></th>\n",
       "    </tr>\n",
       "  </thead>\n",
       "  <tbody>\n",
       "    <tr>\n",
       "      <td>1358457707632631808</td>\n",
       "      <td>[annoying, covid, made, drink, wine, w, 5, fri...</td>\n",
       "      <td>0.0748</td>\n",
       "    </tr>\n",
       "    <tr>\n",
       "      <td>1358822859947208704</td>\n",
       "      <td>[covid, started, vs, covid, going]</td>\n",
       "      <td>0.0000</td>\n",
       "    </tr>\n",
       "    <tr>\n",
       "      <td>1358819976388485122</td>\n",
       "      <td>[official, lost, loved, one, due, covid, 19, s...</td>\n",
       "      <td>0.2812</td>\n",
       "    </tr>\n",
       "    <tr>\n",
       "      <td>1358994298226761731</td>\n",
       "      <td>[dubs, verdansk, covid, facecam, road, affiliate]</td>\n",
       "      <td>0.0000</td>\n",
       "    </tr>\n",
       "    <tr>\n",
       "      <td>1358994298201464834</td>\n",
       "      <td>[jan, 15, us, state, department, fact, sheet, ...</td>\n",
       "      <td>0.0000</td>\n",
       "    </tr>\n",
       "    <tr>\n",
       "      <td>1358994298017116162</td>\n",
       "      <td>[depends, risk, tolerance, vaccinated, adults,...</td>\n",
       "      <td>0.0228</td>\n",
       "    </tr>\n",
       "    <tr>\n",
       "      <td>1358994297710870530</td>\n",
       "      <td>[canada, needs, successful, vaccine, rollout, ...</td>\n",
       "      <td>0.5859</td>\n",
       "    </tr>\n",
       "    <tr>\n",
       "      <td>1358994297044029440</td>\n",
       "      <td>[conservatives, idea, covid, transparency, inv...</td>\n",
       "      <td>0.0000</td>\n",
       "    </tr>\n",
       "    <tr>\n",
       "      <td>1358994297043910666</td>\n",
       "      <td>[let, talk, covid, vaccine, 11, pm, night, kre...</td>\n",
       "      <td>0.0000</td>\n",
       "    </tr>\n",
       "    <tr>\n",
       "      <td>1358994296830119938</td>\n",
       "      <td>[happy, successfully, managed, avoid, covid, y...</td>\n",
       "      <td>0.1126</td>\n",
       "    </tr>\n",
       "  </tbody>\n",
       "</table>\n",
       "</div>"
      ],
      "text/plain": [
       "                                                        processed_text  \\\n",
       "id                                                                       \n",
       "1358457707632631808  [annoying, covid, made, drink, wine, w, 5, fri...   \n",
       "1358822859947208704                 [covid, started, vs, covid, going]   \n",
       "1358819976388485122  [official, lost, loved, one, due, covid, 19, s...   \n",
       "1358994298226761731  [dubs, verdansk, covid, facecam, road, affiliate]   \n",
       "1358994298201464834  [jan, 15, us, state, department, fact, sheet, ...   \n",
       "1358994298017116162  [depends, risk, tolerance, vaccinated, adults,...   \n",
       "1358994297710870530  [canada, needs, successful, vaccine, rollout, ...   \n",
       "1358994297044029440  [conservatives, idea, covid, transparency, inv...   \n",
       "1358994297043910666  [let, talk, covid, vaccine, 11, pm, night, kre...   \n",
       "1358994296830119938  [happy, successfully, managed, avoid, covid, y...   \n",
       "\n",
       "                     sentiment_score  \n",
       "id                                    \n",
       "1358457707632631808           0.0748  \n",
       "1358822859947208704           0.0000  \n",
       "1358819976388485122           0.2812  \n",
       "1358994298226761731           0.0000  \n",
       "1358994298201464834           0.0000  \n",
       "1358994298017116162           0.0228  \n",
       "1358994297710870530           0.5859  \n",
       "1358994297044029440           0.0000  \n",
       "1358994297043910666           0.0000  \n",
       "1358994296830119938           0.1126  "
      ]
     },
     "execution_count": 48,
     "metadata": {},
     "output_type": "execute_result"
    }
   ],
   "source": [
    "df[['processed_text','sentiment_score']].head(n=10)"
   ]
  },
  {
   "cell_type": "code",
   "execution_count": 49,
   "metadata": {},
   "outputs": [
    {
     "data": {
      "text/plain": [
       " 0    5438\n",
       " 1    1140\n",
       "-1     960\n",
       "-2      64\n",
       " 2      57\n",
       " 3       3\n",
       "-3       3\n",
       "Name: sentiment_score, dtype: int64"
      ]
     },
     "execution_count": 49,
     "metadata": {},
     "output_type": "execute_result"
    }
   ],
   "source": [
    "df['sentiment_score'].apply(lambda x: round(x,)).value_counts()"
   ]
  },
  {
   "cell_type": "code",
   "execution_count": 51,
   "metadata": {},
   "outputs": [
    {
     "data": {
      "text/plain": [
       "<matplotlib.axes._subplots.AxesSubplot at 0x1ecf51052c8>"
      ]
     },
     "execution_count": 51,
     "metadata": {},
     "output_type": "execute_result"
    },
    {
     "data": {
      "image/png": "[encoded data removed]",
      "text/plain": [
       "<Figure size 432x288 with 1 Axes>"
      ]
     },
     "metadata": {
      "needs_background": "light"
     },
     "output_type": "display_data"
    }
   ],
   "source": [
    "df['sentiment_score'].hist()"
   ]
  },
  {
   "cell_type": "markdown",
   "metadata": {},
   "source": [
    "In order to make it user understandable, let us categorize this as ['strongly negative', 'negative', 'neutral', 'positive', 'strongly positive'] depending upon the sentiment scores"
   ]
  },
  {
   "cell_type": "code",
   "execution_count": 52,
   "metadata": {},
   "outputs": [],
   "source": [
    "sent_clasification = pd.cut(df['sentiment_score'],\\\n",
    "          [-3,-1.2, 0, 0.1, 1.2 , 3],\\\n",
    "          right=True,\\\n",
    "          include_lowest=True,\\\n",
    "          labels=['strongly negative', 'negative', 'neutral', 'positive', 'strongly positive'])"
   ]
  },
  {
   "cell_type": "code",
   "execution_count": 53,
   "metadata": {},
   "outputs": [
    {
     "data": {
      "text/plain": [
       "negative             4566\n",
       "positive             2535\n",
       "neutral               253\n",
       "strongly positive     165\n",
       "strongly negative     145\n",
       "Name: sentiment_score, dtype: int64"
      ]
     },
     "execution_count": 53,
     "metadata": {},
     "output_type": "execute_result"
    }
   ],
   "source": [
    "sent_clasification.value_counts()"
   ]
  },
  {
   "cell_type": "code",
   "execution_count": 54,
   "metadata": {},
   "outputs": [
    {
     "data": {
      "text/plain": [
       "<matplotlib.axes._subplots.AxesSubplot at 0x1ecea9da408>"
      ]
     },
     "execution_count": 54,
     "metadata": {},
     "output_type": "execute_result"
    },
    {
     "data": {
      "image/png": "[encoded data removed]",
      "text/plain": [
       "<Figure size 432x288 with 1 Axes>"
      ]
     },
     "metadata": {
      "needs_background": "light"
     },
     "output_type": "display_data"
    }
   ],
   "source": [
    "sent_clasification.value_counts().plot(kind='barh')"
   ]
  },
  {
   "cell_type": "code",
   "execution_count": 56,
   "metadata": {},
   "outputs": [
    {
     "data": {
      "text/plain": [
       "<matplotlib.axes._subplots.AxesSubplot at 0x1ecec4d9888>"
      ]
     },
     "execution_count": 56,
     "metadata": {},
     "output_type": "execute_result"
    },
    {
     "data": {
      "image/png": "[encoded data removed]",
      "text/plain": [
       "<Figure size 432x288 with 1 Axes>"
      ]
     },
     "metadata": {},
     "output_type": "display_data"
    }
   ],
   "source": [
    "sent_clasification.value_counts().plot(kind='pie')"
   ]
  },
  {
   "cell_type": "markdown",
   "metadata": {},
   "source": [
    "We can see that  negative tweets are found in a larger proportion"
   ]
  },
  {
   "cell_type": "markdown",
   "metadata": {},
   "source": [
    "### User Category"
   ]
  },
  {
   "cell_type": "markdown",
   "metadata": {},
   "source": [
    "Here, let us try to categorize the tweets based on the users who tweeted it. Generally if the followers count of a given user is more, then we can assume that the tweet can be more influencial and vice versa. For this purpose, let us categorize the users as ['small','medium','wide'] depending upon their followers count"
   ]
  },
  {
   "cell_type": "code",
   "execution_count": 57,
   "metadata": {
    "scrolled": true
   },
   "outputs": [],
   "source": [
    "df['user_audience_category'] = pd.cut(df['user.followers_count'],[0,300,10000,999999999],include_lowest=True,labels=['small','medium','wide'])"
   ]
  },
  {
   "cell_type": "code",
   "execution_count": 58,
   "metadata": {},
   "outputs": [
    {
     "data": {
      "text/plain": [
       "id\n",
       "1358457707632631808      wide\n",
       "1358822859947208704      wide\n",
       "1358819976388485122      wide\n",
       "1358994298226761731    medium\n",
       "1358994298201464834    medium\n",
       "Name: user_audience_category, dtype: category\n",
       "Categories (3, object): [small < medium < wide]"
      ]
     },
     "execution_count": 58,
     "metadata": {},
     "output_type": "execute_result"
    }
   ],
   "source": [
    "df['user_audience_category'].head()"
   ]
  },
  {
   "cell_type": "code",
   "execution_count": 59,
   "metadata": {},
   "outputs": [
    {
     "data": {
      "text/plain": [
       "<matplotlib.axes._subplots.AxesSubplot at 0x1ecec524448>"
      ]
     },
     "execution_count": 59,
     "metadata": {},
     "output_type": "execute_result"
    },
    {
     "data": {
      "image/png": "[encoded data removed]",
      "text/plain": [
       "<Figure size 432x288 with 1 Axes>"
      ]
     },
     "metadata": {
      "needs_background": "light"
     },
     "output_type": "display_data"
    }
   ],
   "source": [
    "df['user_audience_category'].value_counts().plot(kind='barh',x='User type',y='Range of tweets')"
   ]
  },
  {
   "cell_type": "markdown",
   "metadata": {},
   "source": [
    "### Location pattern"
   ]
  },
  {
   "cell_type": "markdown",
   "metadata": {},
   "source": [
    "Now let us understand from where these tweets come and how are they distributed globally. "
   ]
  },
  {
   "cell_type": "code",
   "execution_count": 60,
   "metadata": {
    "scrolled": true
   },
   "outputs": [],
   "source": [
    "locs = df.drop(df[df['user.location'] == \"\"].index)['user.location']"
   ]
  },
  {
   "cell_type": "code",
   "execution_count": 62,
   "metadata": {},
   "outputs": [],
   "source": [
    "loc=locs.value_counts().head(n=10)\n",
    "loc_ind = list(loc.index)\n",
    "loc_val = list(loc)"
   ]
  },
  {
   "cell_type": "code",
   "execution_count": 63,
   "metadata": {},
   "outputs": [],
   "source": [
    "import matplotlib.pyplot as plt"
   ]
  },
  {
   "cell_type": "code",
   "execution_count": 64,
   "metadata": {},
   "outputs": [
    {
     "data": {
      "text/plain": [
       "<BarContainer object of 10 artists>"
      ]
     },
     "execution_count": 64,
     "metadata": {},
     "output_type": "execute_result"
    },
    {
     "data": {
      "image/png": "[encoded data removed]",
      "text/plain": [
       "<Figure size 432x288 with 1 Axes>"
      ]
     },
     "metadata": {
      "needs_background": "light"
     },
     "output_type": "display_data"
    }
   ],
   "source": [
    "plt.barh(loc_ind,loc_val)\n",
    "# plt.xticks(rotation=90)"
   ]
  },
  {
   "cell_type": "markdown",
   "metadata": {},
   "source": [
    "### Word Cloud"
   ]
  },
  {
   "cell_type": "markdown",
   "metadata": {},
   "source": [
    "A word cloud is a collection, or cluster, of words depicted in different sizes. The bigger and bolder the word appears, the more often it’s mentioned within a given text and the more important it is."
   ]
  },
  {
   "cell_type": "code",
   "execution_count": 65,
   "metadata": {},
   "outputs": [],
   "source": [
    "from wordcloud import WordCloud, STOPWORDS"
   ]
  },
  {
   "cell_type": "code",
   "execution_count": 66,
   "metadata": {},
   "outputs": [],
   "source": [
    "bigstring = df['processed_text'].apply(lambda x: ' '.join(x)).str.cat(sep=' ')"
   ]
  },
  {
   "cell_type": "code",
   "execution_count": 67,
   "metadata": {},
   "outputs": [
    {
     "data": {
      "text/plain": [
       "<matplotlib.image.AxesImage at 0x1ecef744c08>"
      ]
     },
     "execution_count": 67,
     "metadata": {},
     "output_type": "execute_result"
    },
    {
     "data": {
      "image/png": "[encoded data removed]",
      "text/plain": [
       "<Figure size 864x864 with 1 Axes>"
      ]
     },
     "metadata": {
      "needs_background": "light"
     },
     "output_type": "display_data"
    }
   ],
   "source": [
    "plt.figure(figsize=(12,12))\n",
    "wordcloud = WordCloud(stopwords=STOPWORDS,\n",
    "                          background_color='white',\n",
    "                          collocations=False,\n",
    "                          width=1200,\n",
    "                          height=1000\n",
    "                         ).generate(bigstring)\n",
    "plt.axis('off')\n",
    "plt.imshow(wordcloud)"
   ]
  },
  {
   "cell_type": "markdown",
   "metadata": {},
   "source": [
    "### Top Hashtags"
   ]
  },
  {
   "cell_type": "markdown",
   "metadata": {},
   "source": [
    "As all of us know, hashtags play a curcial role in twitter. Let us find out what are the top hashtags that people use when they tweet something about Covid-19"
   ]
  },
  {
   "cell_type": "code",
   "execution_count": 68,
   "metadata": {},
   "outputs": [],
   "source": [
    "import re\n",
    "hashtags = df['text'].apply(lambda x: pd.value_counts(re.findall('(#\\w+)', x.lower() )))\\\n",
    "                     .sum(axis=0)\\\n",
    "                     .to_frame()\\\n",
    "                     .reset_index()\\\n",
    "                     .sort_values(by=0,ascending=False)\n",
    "hashtags.columns = ['hashtag','occurences']"
   ]
  },
  {
   "cell_type": "code",
   "execution_count": 69,
   "metadata": {},
   "outputs": [
    {
     "data": {
      "text/html": [
       "<div>\n",
       "<style scoped>\n",
       "    .dataframe tbody tr th:only-of-type {\n",
       "        vertical-align: middle;\n",
       "    }\n",
       "\n",
       "    .dataframe tbody tr th {\n",
       "        vertical-align: top;\n",
       "    }\n",
       "\n",
       "    .dataframe thead th {\n",
       "        text-align: right;\n",
       "    }\n",
       "</style>\n",
       "<table border=\"1\" class=\"dataframe\">\n",
       "  <thead>\n",
       "    <tr style=\"text-align: right;\">\n",
       "      <th></th>\n",
       "      <th>hashtag</th>\n",
       "      <th>occurences</th>\n",
       "    </tr>\n",
       "  </thead>\n",
       "  <tbody>\n",
       "    <tr>\n",
       "      <td>153</td>\n",
       "      <td>#covid</td>\n",
       "      <td>161.0</td>\n",
       "    </tr>\n",
       "    <tr>\n",
       "      <td>155</td>\n",
       "      <td>#covid19</td>\n",
       "      <td>115.0</td>\n",
       "    </tr>\n",
       "    <tr>\n",
       "      <td>143</td>\n",
       "      <td>#coronavirus</td>\n",
       "      <td>41.0</td>\n",
       "    </tr>\n",
       "    <tr>\n",
       "      <td>674</td>\n",
       "      <td>#superbowl</td>\n",
       "      <td>23.0</td>\n",
       "    </tr>\n",
       "    <tr>\n",
       "      <td>169</td>\n",
       "      <td>#covid_19</td>\n",
       "      <td>23.0</td>\n",
       "    </tr>\n",
       "    <tr>\n",
       "      <td>738</td>\n",
       "      <td>#vaccine</td>\n",
       "      <td>18.0</td>\n",
       "    </tr>\n",
       "    <tr>\n",
       "      <td>181</td>\n",
       "      <td>#covidvaccine</td>\n",
       "      <td>11.0</td>\n",
       "    </tr>\n",
       "    <tr>\n",
       "      <td>185</td>\n",
       "      <td>#covidー19</td>\n",
       "      <td>10.0</td>\n",
       "    </tr>\n",
       "    <tr>\n",
       "      <td>741</td>\n",
       "      <td>#vaccines</td>\n",
       "      <td>9.0</td>\n",
       "    </tr>\n",
       "    <tr>\n",
       "      <td>538</td>\n",
       "      <td>#pandemic</td>\n",
       "      <td>8.0</td>\n",
       "    </tr>\n",
       "  </tbody>\n",
       "</table>\n",
       "</div>"
      ],
      "text/plain": [
       "           hashtag  occurences\n",
       "153         #covid       161.0\n",
       "155       #covid19       115.0\n",
       "143   #coronavirus        41.0\n",
       "674     #superbowl        23.0\n",
       "169      #covid_19        23.0\n",
       "738       #vaccine        18.0\n",
       "181  #covidvaccine        11.0\n",
       "185      #covidー19        10.0\n",
       "741      #vaccines         9.0\n",
       "538      #pandemic         8.0"
      ]
     },
     "execution_count": 69,
     "metadata": {},
     "output_type": "execute_result"
    }
   ],
   "source": [
    "hashtags.head(10)"
   ]
  },
  {
   "cell_type": "code",
   "execution_count": 70,
   "metadata": {},
   "outputs": [
    {
     "name": "stderr",
     "output_type": "stream",
     "text": [
      "C:\\Users\\Lenovo\\Anaconda3\\lib\\site-packages\\matplotlib\\backends\\backend_agg.py:211: RuntimeWarning: Glyph 12540 missing from current font.\n",
      "  font.set_text(s, 0.0, flags=flags)\n",
      "C:\\Users\\Lenovo\\Anaconda3\\lib\\site-packages\\matplotlib\\backends\\backend_agg.py:180: RuntimeWarning: Glyph 12540 missing from current font.\n",
      "  font.set_text(s, 0, flags=flags)\n"
     ]
    },
    {
     "data": {
      "image/png": "[encoded data removed]",
      "text/plain": [
       "<Figure size 432x288 with 1 Axes>"
      ]
     },
     "metadata": {
      "needs_background": "light"
     },
     "output_type": "display_data"
    }
   ],
   "source": [
    "hashtags[:10].plot(kind='barh',y='occurences',x='hashtag')\n",
    "plt.tight_layout()\n",
    "plt.grid(False)"
   ]
  },
  {
   "cell_type": "markdown",
   "metadata": {},
   "source": [
    "### Top Users Mentioned"
   ]
  },
  {
   "cell_type": "markdown",
   "metadata": {},
   "source": [
    "Twitter also provides the users with the facility to mention other users in their tweet. Let us find out who are the most tagged people"
   ]
  },
  {
   "cell_type": "code",
   "execution_count": 72,
   "metadata": {
    "scrolled": false
   },
   "outputs": [
    {
     "data": {
      "text/plain": [
       "<matplotlib.axes._subplots.AxesSubplot at 0x1ecf3120cc8>"
      ]
     },
     "execution_count": 72,
     "metadata": {},
     "output_type": "execute_result"
    },
    {
     "data": {
      "image/png": "[encoded data removed]",
      "text/plain": [
       "<Figure size 432x288 with 1 Axes>"
      ]
     },
     "metadata": {
      "needs_background": "light"
     },
     "output_type": "display_data"
    }
   ],
   "source": [
    "plt.grid(False)\n",
    "plt.tight_layout()\n",
    "df['text'].str\\\n",
    "          .findall('(@[A-Za-z0-9]+)')\\\n",
    "          .apply(lambda x: pd.value_counts(x))\\\n",
    "          .sum(axis=0)\\\n",
    "          .sort_values(ascending=False)[:10]\\\n",
    "          .plot(kind='barh')"
   ]
  },
  {
   "cell_type": "markdown",
   "metadata": {},
   "source": [
    "### Top Words"
   ]
  },
  {
   "cell_type": "markdown",
   "metadata": {},
   "source": [
    "In this section, let us try to figure out what are the most common words that people use when they tweet something about covid"
   ]
  },
  {
   "cell_type": "code",
   "execution_count": 73,
   "metadata": {},
   "outputs": [],
   "source": [
    "words = df['processed_text'].dropna()\\\n",
    "                            .apply(lambda y: pd.value_counts(re.findall('([\\s]\\w+[\\s])',' '.join(y))))\\\n",
    "                            .sum(axis=0)\\\n",
    "                            .to_frame()\\\n",
    "                            .reset_index()\\\n",
    "                            .sort_values(by=0,ascending=False)\n",
    "words.columns = ['word','occurences']"
   ]
  },
  {
   "cell_type": "code",
   "execution_count": 74,
   "metadata": {},
   "outputs": [
    {
     "data": {
      "text/html": [
       "<div>\n",
       "<style scoped>\n",
       "    .dataframe tbody tr th:only-of-type {\n",
       "        vertical-align: middle;\n",
       "    }\n",
       "\n",
       "    .dataframe tbody tr th {\n",
       "        vertical-align: top;\n",
       "    }\n",
       "\n",
       "    .dataframe thead th {\n",
       "        text-align: right;\n",
       "    }\n",
       "</style>\n",
       "<table border=\"1\" class=\"dataframe\">\n",
       "  <thead>\n",
       "    <tr style=\"text-align: right;\">\n",
       "      <th></th>\n",
       "      <th>word</th>\n",
       "      <th>occurences</th>\n",
       "    </tr>\n",
       "  </thead>\n",
       "  <tbody>\n",
       "    <tr>\n",
       "      <td>1832</td>\n",
       "      <td>covid</td>\n",
       "      <td>2155.0</td>\n",
       "    </tr>\n",
       "    <tr>\n",
       "      <td>85</td>\n",
       "      <td>19</td>\n",
       "      <td>845.0</td>\n",
       "    </tr>\n",
       "    <tr>\n",
       "      <td>7319</td>\n",
       "      <td>vaccine</td>\n",
       "      <td>329.0</td>\n",
       "    </tr>\n",
       "    <tr>\n",
       "      <td>5155</td>\n",
       "      <td>people</td>\n",
       "      <td>237.0</td>\n",
       "    </tr>\n",
       "    <tr>\n",
       "      <td>602</td>\n",
       "      <td>amp</td>\n",
       "      <td>161.0</td>\n",
       "    </tr>\n",
       "    <tr>\n",
       "      <td>3128</td>\n",
       "      <td>get</td>\n",
       "      <td>161.0</td>\n",
       "    </tr>\n",
       "    <tr>\n",
       "      <td>4761</td>\n",
       "      <td>new</td>\n",
       "      <td>158.0</td>\n",
       "    </tr>\n",
       "    <tr>\n",
       "      <td>1309</td>\n",
       "      <td>cases</td>\n",
       "      <td>141.0</td>\n",
       "    </tr>\n",
       "    <tr>\n",
       "      <td>4919</td>\n",
       "      <td>one</td>\n",
       "      <td>131.0</td>\n",
       "    </tr>\n",
       "    <tr>\n",
       "      <td>4137</td>\n",
       "      <td>like</td>\n",
       "      <td>128.0</td>\n",
       "    </tr>\n",
       "  </tbody>\n",
       "</table>\n",
       "</div>"
      ],
      "text/plain": [
       "           word  occurences\n",
       "1832     covid       2155.0\n",
       "85          19        845.0\n",
       "7319   vaccine        329.0\n",
       "5155    people        237.0\n",
       "602        amp        161.0\n",
       "3128       get        161.0\n",
       "4761       new        158.0\n",
       "1309     cases        141.0\n",
       "4919       one        131.0\n",
       "4137      like        128.0"
      ]
     },
     "execution_count": 74,
     "metadata": {},
     "output_type": "execute_result"
    }
   ],
   "source": [
    "words.head(10)"
   ]
  },
  {
   "cell_type": "code",
   "execution_count": 75,
   "metadata": {
    "scrolled": false
   },
   "outputs": [
    {
     "data": {
      "image/png": "[encoded data removed]",
      "text/plain": [
       "<Figure size 432x288 with 1 Axes>"
      ]
     },
     "metadata": {
      "needs_background": "light"
     },
     "output_type": "display_data"
    }
   ],
   "source": [
    "words[:10].plot(kind='barh',y='occurences',x='word')\n",
    "plt.grid(False)\n",
    "plt.tight_layout()"
   ]
  },
  {
   "cell_type": "markdown",
   "metadata": {},
   "source": [
    "### Top Bigrams"
   ]
  },
  {
   "cell_type": "markdown",
   "metadata": {},
   "source": [
    " Bigram is two consecutive words in a sentence. In this section, let us find out what are the most commonly found bigrams "
   ]
  },
  {
   "cell_type": "code",
   "execution_count": 76,
   "metadata": {},
   "outputs": [],
   "source": [
    "from nltk import bigrams\n",
    "bigramseries = pd.Series([word for sublist in df['processed_text'].dropna()\\\n",
    "                    .apply(lambda x: [i for i in bigrams(x)])\\\n",
    "                    .tolist() for word in sublist])\\\n",
    "                    .value_counts()"
   ]
  },
  {
   "cell_type": "code",
   "execution_count": 77,
   "metadata": {
    "scrolled": false
   },
   "outputs": [
    {
     "data": {
      "text/plain": [
       "(covid, 19)         1689\n",
       "(19, vaccine)        208\n",
       "(covid, vaccine)     190\n",
       "(super, bowl)         94\n",
       "(due, covid)          94\n",
       "(died, covid)         90\n",
       "(get, covid)          89\n",
       "(covid, relief)       84\n",
       "(covid, deaths)       66\n",
       "(19, vaccines)        64\n",
       "dtype: int64"
      ]
     },
     "execution_count": 77,
     "metadata": {},
     "output_type": "execute_result"
    }
   ],
   "source": [
    "bigramseries.head(10)"
   ]
  },
  {
   "cell_type": "code",
   "execution_count": 78,
   "metadata": {
    "scrolled": true
   },
   "outputs": [
    {
     "data": {
      "image/png": "[encoded data removed]",
      "text/plain": [
       "<Figure size 432x288 with 1 Axes>"
      ]
     },
     "metadata": {
      "needs_background": "light"
     },
     "output_type": "display_data"
    }
   ],
   "source": [
    "bigramseries[:10].plot(kind='barh')\n",
    "plt.tight_layout()"
   ]
  }
 ],
 "metadata": {
  "kernelspec": {
   "display_name": "Python 3",
   "language": "python",
   "name": "python3"
  },
  "language_info": {
   "codemirror_mode": {
    "name": "ipython",
    "version": 3
   },
   "file_extension": ".py",
   "mimetype": "text/x-python",
   "name": "python",
   "nbconvert_exporter": "python",
   "pygments_lexer": "ipython3",
   "version": "3.7.4"
  }
 },
 "nbformat": 4,
 "nbformat_minor": 1
}
